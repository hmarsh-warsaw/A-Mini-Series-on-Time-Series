{
  "nbformat": 4,
  "nbformat_minor": 0,
  "metadata": {
    "colab": {
      "name": "Time_Series Light_Intro.ipynb",
      "provenance": [],
      "collapsed_sections": []
    },
    "kernelspec": {
      "name": "python3",
      "display_name": "Python 3"
    },
    "language_info": {
      "name": "python"
    }
  },
  "cells": [
    {
      "cell_type": "code",
      "metadata": {
        "id": "hn3Tkio_h0te",
        "colab": {
          "base_uri": "https://localhost:8080/"
        },
        "outputId": "2d75de16-1281-448e-ebb8-12883174b262"
      },
      "source": [
        "!pip install pmdarima\n",
        "\n",
        "!pip install keras\n",
        "\n"
      ],
      "execution_count": 154,
      "outputs": [
        {
          "output_type": "stream",
          "text": [
            "Requirement already satisfied: pmdarima in /usr/local/lib/python3.7/dist-packages (1.8.2)\n",
            "Requirement already satisfied: scikit-learn>=0.22 in /usr/local/lib/python3.7/dist-packages (from pmdarima) (0.22.2.post1)\n",
            "Requirement already satisfied: Cython!=0.29.18,>=0.29 in /usr/local/lib/python3.7/dist-packages (from pmdarima) (0.29.24)\n",
            "Requirement already satisfied: scipy>=1.3.2 in /usr/local/lib/python3.7/dist-packages (from pmdarima) (1.4.1)\n",
            "Requirement already satisfied: pandas>=0.19 in /usr/local/lib/python3.7/dist-packages (from pmdarima) (1.1.5)\n",
            "Requirement already satisfied: joblib>=0.11 in /usr/local/lib/python3.7/dist-packages (from pmdarima) (1.0.1)\n",
            "Requirement already satisfied: numpy~=1.19.0 in /usr/local/lib/python3.7/dist-packages (from pmdarima) (1.19.5)\n",
            "Requirement already satisfied: statsmodels!=0.12.0,>=0.11 in /usr/local/lib/python3.7/dist-packages (from pmdarima) (0.12.2)\n",
            "Requirement already satisfied: urllib3 in /usr/local/lib/python3.7/dist-packages (from pmdarima) (1.24.3)\n",
            "Requirement already satisfied: setuptools!=50.0.0,>=38.6.0 in /usr/local/lib/python3.7/dist-packages (from pmdarima) (57.4.0)\n",
            "Requirement already satisfied: pytz>=2017.2 in /usr/local/lib/python3.7/dist-packages (from pandas>=0.19->pmdarima) (2018.9)\n",
            "Requirement already satisfied: python-dateutil>=2.7.3 in /usr/local/lib/python3.7/dist-packages (from pandas>=0.19->pmdarima) (2.8.2)\n",
            "Requirement already satisfied: six>=1.5 in /usr/local/lib/python3.7/dist-packages (from python-dateutil>=2.7.3->pandas>=0.19->pmdarima) (1.15.0)\n",
            "Requirement already satisfied: patsy>=0.5 in /usr/local/lib/python3.7/dist-packages (from statsmodels!=0.12.0,>=0.11->pmdarima) (0.5.1)\n",
            "Requirement already satisfied: keras in /usr/local/lib/python3.7/dist-packages (2.6.0)\n"
          ],
          "name": "stdout"
        }
      ]
    },
    {
      "cell_type": "code",
      "metadata": {
        "id": "tACrnbC6HijP"
      },
      "source": [
        "import pandas as pd\n",
        "import numpy as np\n",
        "import matplotlib.pyplot as plt\n",
        "\n",
        "from sklearn.preprocessing import MinMaxScaler\n",
        "\n",
        "\n",
        "from tensorflow.python.keras.preprocessing.sequence import TimeseriesGenerator\n",
        "from tensorflow.python.keras import Sequential\n",
        "from tensorflow.python.keras.layers import LSTM, Dense\n",
        "\n",
        "from fbprophet import Prophet\n",
        "\n",
        "\n",
        "# Load specific forecasting tools\n",
        "from statsmodels.tsa.statespace.sarimax import SARIMAX\n",
        "\n",
        "from statsmodels.stats.stattools import durbin_watson\n",
        "\n",
        "from statsmodels.graphics.tsaplots import plot_acf, plot_pacf\n",
        "from statsmodels.tsa.stattools import acf, pacf  # for determining (p,q) orders\n",
        "from statsmodels.tsa.seasonal import seasonal_decompose      # for ETS Plots\n",
        "from pmdarima import auto_arima                              # for determining ARIMA orders\n",
        "\n",
        "\n",
        "from statsmodels.tsa.stattools import adfuller\n",
        "\n",
        "# Load specific evaluation tools\n",
        "from sklearn.metrics import mean_squared_error\n",
        "from statsmodels.tools.eval_measures import rmse\n",
        "\n",
        "# Ignore harmless warnings\n",
        "import warnings\n",
        "warnings.filterwarnings(\"ignore\")"
      ],
      "execution_count": 155,
      "outputs": []
    },
    {
      "cell_type": "markdown",
      "metadata": {
        "id": "N-jln1K_8jNc"
      },
      "source": [
        "# The purpose of this notebook is to provide a light introduction to time series forecasting using one only variable (sales) and 3 basic models\n",
        "\n",
        "\n",
        "\n",
        "Models:\n",
        "\n",
        "*   SARIMA\n",
        "*   RNN (LTSM)\n",
        "*   Prophet\n",
        "\n",
        "\n",
        "\n",
        "\n"
      ]
    },
    {
      "cell_type": "code",
      "metadata": {
        "colab": {
          "base_uri": "https://localhost:8080/",
          "height": 235
        },
        "id": "QOu6Fr_Z7Wjd",
        "outputId": "da14c67e-14a5-4448-925a-2447311406ac"
      },
      "source": [
        "# Load data\n",
        "\n",
        "\n",
        "df = pd.read_csv('/content/train.csv',index_col='date',parse_dates=True)\n",
        "\n",
        "\n",
        "df.head()"
      ],
      "execution_count": 156,
      "outputs": [
        {
          "output_type": "execute_result",
          "data": {
            "text/html": [
              "<div>\n",
              "<style scoped>\n",
              "    .dataframe tbody tr th:only-of-type {\n",
              "        vertical-align: middle;\n",
              "    }\n",
              "\n",
              "    .dataframe tbody tr th {\n",
              "        vertical-align: top;\n",
              "    }\n",
              "\n",
              "    .dataframe thead th {\n",
              "        text-align: right;\n",
              "    }\n",
              "</style>\n",
              "<table border=\"1\" class=\"dataframe\">\n",
              "  <thead>\n",
              "    <tr style=\"text-align: right;\">\n",
              "      <th></th>\n",
              "      <th>store</th>\n",
              "      <th>item</th>\n",
              "      <th>sales</th>\n",
              "    </tr>\n",
              "    <tr>\n",
              "      <th>date</th>\n",
              "      <th></th>\n",
              "      <th></th>\n",
              "      <th></th>\n",
              "    </tr>\n",
              "  </thead>\n",
              "  <tbody>\n",
              "    <tr>\n",
              "      <th>2013-01-01</th>\n",
              "      <td>1</td>\n",
              "      <td>1</td>\n",
              "      <td>13</td>\n",
              "    </tr>\n",
              "    <tr>\n",
              "      <th>2013-01-02</th>\n",
              "      <td>1</td>\n",
              "      <td>1</td>\n",
              "      <td>11</td>\n",
              "    </tr>\n",
              "    <tr>\n",
              "      <th>2013-01-03</th>\n",
              "      <td>1</td>\n",
              "      <td>1</td>\n",
              "      <td>14</td>\n",
              "    </tr>\n",
              "    <tr>\n",
              "      <th>2013-01-04</th>\n",
              "      <td>1</td>\n",
              "      <td>1</td>\n",
              "      <td>13</td>\n",
              "    </tr>\n",
              "    <tr>\n",
              "      <th>2013-01-05</th>\n",
              "      <td>1</td>\n",
              "      <td>1</td>\n",
              "      <td>10</td>\n",
              "    </tr>\n",
              "  </tbody>\n",
              "</table>\n",
              "</div>"
            ],
            "text/plain": [
              "            store  item  sales\n",
              "date                          \n",
              "2013-01-01      1     1     13\n",
              "2013-01-02      1     1     11\n",
              "2013-01-03      1     1     14\n",
              "2013-01-04      1     1     13\n",
              "2013-01-05      1     1     10"
            ]
          },
          "metadata": {},
          "execution_count": 156
        }
      ]
    },
    {
      "cell_type": "code",
      "metadata": {
        "colab": {
          "base_uri": "https://localhost:8080/",
          "height": 235
        },
        "id": "SybNun2pmdJn",
        "outputId": "75381a3b-cb89-4066-9328-68474f288d34"
      },
      "source": [
        "# Resample the data so is aggregated monthly (ie total monthly sales for all stores)\n",
        "\n",
        "df=df.resample(\"M\").sum()\n",
        "\n",
        "\n",
        "df.head()"
      ],
      "execution_count": 157,
      "outputs": [
        {
          "output_type": "execute_result",
          "data": {
            "text/html": [
              "<div>\n",
              "<style scoped>\n",
              "    .dataframe tbody tr th:only-of-type {\n",
              "        vertical-align: middle;\n",
              "    }\n",
              "\n",
              "    .dataframe tbody tr th {\n",
              "        vertical-align: top;\n",
              "    }\n",
              "\n",
              "    .dataframe thead th {\n",
              "        text-align: right;\n",
              "    }\n",
              "</style>\n",
              "<table border=\"1\" class=\"dataframe\">\n",
              "  <thead>\n",
              "    <tr style=\"text-align: right;\">\n",
              "      <th></th>\n",
              "      <th>store</th>\n",
              "      <th>item</th>\n",
              "      <th>sales</th>\n",
              "    </tr>\n",
              "    <tr>\n",
              "      <th>date</th>\n",
              "      <th></th>\n",
              "      <th></th>\n",
              "      <th></th>\n",
              "    </tr>\n",
              "  </thead>\n",
              "  <tbody>\n",
              "    <tr>\n",
              "      <th>2013-01-31</th>\n",
              "      <td>85250</td>\n",
              "      <td>395250</td>\n",
              "      <td>454904</td>\n",
              "    </tr>\n",
              "    <tr>\n",
              "      <th>2013-02-28</th>\n",
              "      <td>77000</td>\n",
              "      <td>357000</td>\n",
              "      <td>459417</td>\n",
              "    </tr>\n",
              "    <tr>\n",
              "      <th>2013-03-31</th>\n",
              "      <td>85250</td>\n",
              "      <td>395250</td>\n",
              "      <td>617382</td>\n",
              "    </tr>\n",
              "    <tr>\n",
              "      <th>2013-04-30</th>\n",
              "      <td>82500</td>\n",
              "      <td>382500</td>\n",
              "      <td>682274</td>\n",
              "    </tr>\n",
              "    <tr>\n",
              "      <th>2013-05-31</th>\n",
              "      <td>85250</td>\n",
              "      <td>395250</td>\n",
              "      <td>763242</td>\n",
              "    </tr>\n",
              "  </tbody>\n",
              "</table>\n",
              "</div>"
            ],
            "text/plain": [
              "            store    item   sales\n",
              "date                             \n",
              "2013-01-31  85250  395250  454904\n",
              "2013-02-28  77000  357000  459417\n",
              "2013-03-31  85250  395250  617382\n",
              "2013-04-30  82500  382500  682274\n",
              "2013-05-31  85250  395250  763242"
            ]
          },
          "metadata": {},
          "execution_count": 157
        }
      ]
    },
    {
      "cell_type": "code",
      "metadata": {
        "colab": {
          "base_uri": "https://localhost:8080/"
        },
        "id": "tEOrqd6WSvfS",
        "outputId": "91ca037c-c515-4996-bec6-b42e65e27638"
      },
      "source": [
        "df.index"
      ],
      "execution_count": 158,
      "outputs": [
        {
          "output_type": "execute_result",
          "data": {
            "text/plain": [
              "DatetimeIndex(['2013-01-31', '2013-02-28', '2013-03-31', '2013-04-30',\n",
              "               '2013-05-31', '2013-06-30', '2013-07-31', '2013-08-31',\n",
              "               '2013-09-30', '2013-10-31', '2013-11-30', '2013-12-31',\n",
              "               '2014-01-31', '2014-02-28', '2014-03-31', '2014-04-30',\n",
              "               '2014-05-31', '2014-06-30', '2014-07-31', '2014-08-31',\n",
              "               '2014-09-30', '2014-10-31', '2014-11-30', '2014-12-31',\n",
              "               '2015-01-31', '2015-02-28', '2015-03-31', '2015-04-30',\n",
              "               '2015-05-31', '2015-06-30', '2015-07-31', '2015-08-31',\n",
              "               '2015-09-30', '2015-10-31', '2015-11-30', '2015-12-31',\n",
              "               '2016-01-31', '2016-02-29', '2016-03-31', '2016-04-30',\n",
              "               '2016-05-31', '2016-06-30', '2016-07-31', '2016-08-31',\n",
              "               '2016-09-30', '2016-10-31', '2016-11-30', '2016-12-31',\n",
              "               '2017-01-31', '2017-02-28', '2017-03-31', '2017-04-30',\n",
              "               '2017-05-31', '2017-06-30', '2017-07-31', '2017-08-31',\n",
              "               '2017-09-30', '2017-10-31', '2017-11-30', '2017-12-31'],\n",
              "              dtype='datetime64[ns]', name='date', freq='M')"
            ]
          },
          "metadata": {},
          "execution_count": 158
        }
      ]
    },
    {
      "cell_type": "code",
      "metadata": {
        "colab": {
          "base_uri": "https://localhost:8080/",
          "height": 336
        },
        "id": "1A4J6nljuAcy",
        "outputId": "597faa13-c678-4c56-f0ff-0efd5a3cd06c"
      },
      "source": [
        "# From the plotting the data, it looks like there is a trend and deff seasonality (due to winter holidays)\n",
        "\n",
        "title='Total Montly Sales'\n",
        "ylabel='Dollar Amount'\n",
        "\n",
        "\n",
        "ax = df[\"sales\"].plot(figsize=(12,5),title=title)\n",
        "ax.autoscale(axis='x',tight=True)\n",
        "ax.set(xlabel=xlabel, ylabel=ylabel);"
      ],
      "execution_count": 209,
      "outputs": [
        {
          "output_type": "display_data",
          "data": {
            "image/png": "[encoded data removed]",
            "text/plain": [
              "<Figure size 864x360 with 1 Axes>"
            ]
          },
          "metadata": {
            "needs_background": "light"
          }
        }
      ]
    },
    {
      "cell_type": "code",
      "metadata": {
        "colab": {
          "base_uri": "https://localhost:8080/",
          "height": 297
        },
        "id": "G1yVRuf1rBja",
        "outputId": "4e379de2-da52-4ca7-c980-574ffbd1040f"
      },
      "source": [
        "#Run an ETS to have a deeper look at the seasonality and trend in the data (additive becuase the trend does not appear exponential)\n",
        "\n",
        "result = seasonal_decompose(df[\"sales\"], model='add')\n",
        "result.plot();"
      ],
      "execution_count": 160,
      "outputs": [
        {
          "output_type": "display_data",
          "data": {
            "image/png": "[encoded data removed]",
            "text/plain": [
              "<Figure size 432x288 with 4 Axes>"
            ]
          },
          "metadata": {
            "needs_background": "light"
          }
        }
      ]
    },
    {
      "cell_type": "code",
      "metadata": {
        "colab": {
          "base_uri": "https://localhost:8080/",
          "height": 331
        },
        "id": "P2ntp5gstJgQ",
        "outputId": "505363e3-2487-40af-e44a-5142f9dfeaa0"
      },
      "source": [
        "# Stationarity - it is quite common for time series to be non-stationary. So before moving any furhter, we need to check for stationarity (i.e. variance and  mean are constanct over time - seasonality too!)\n",
        "\n",
        "# First plotting - the mean is not constant over time\n",
        "\n",
        "df['3-month-SMA'] = df['sales'].rolling(window=3).mean()\n",
        "df['3-month-Std'] = df['sales'].rolling(window=3).std()\n",
        "\n",
        "ylabel='Dollar Amount'\n",
        "\n",
        "\n",
        "ax = df[['sales','3-month-SMA','3-month-Std']].plot(figsize = (12,5));\n",
        "\n",
        "ax.set(xlabel=xlabel, ylabel=ylabel);"
      ],
      "execution_count": 161,
      "outputs": [
        {
          "output_type": "display_data",
          "data": {
            "image/png": "[encoded data removed]",
            "text/plain": [
              "<Figure size 864x360 with 1 Axes>"
            ]
          },
          "metadata": {
            "needs_background": "light"
          }
        }
      ]
    },
    {
      "cell_type": "code",
      "metadata": {
        "colab": {
          "base_uri": "https://localhost:8080/"
        },
        "id": "QZ2RgkEz7CGv",
        "outputId": "425c5bfa-4cee-40dc-859b-5463173ce297"
      },
      "source": [
        "# Due to the high p-value, we cannot reject the null hpypothesis that the data is non -tationary (data is stationary!)\n",
        "\n",
        "print('Augmented Dickey-Fuller Test')\n",
        "dftest = adfuller(df['sales'],autolag='AIC')\n",
        "\n",
        "dfout = pd.Series(dftest[0:4],index=['ADF test statistic','p-value','# lags used','# observations'])\n",
        "\n",
        "for key,val in dftest[4].items():\n",
        "    dfout[f'critical value ({key})']=val\n",
        "print(dfout)"
      ],
      "execution_count": 162,
      "outputs": [
        {
          "output_type": "stream",
          "text": [
            "Augmented Dickey-Fuller Test\n",
            "ADF test statistic      -5.247519\n",
            "p-value                  0.000007\n",
            "# lags used             11.000000\n",
            "# observations          48.000000\n",
            "critical value (1%)     -3.574589\n",
            "critical value (5%)     -2.923954\n",
            "critical value (10%)    -2.600039\n",
            "dtype: float64\n"
          ],
          "name": "stdout"
        }
      ]
    },
    {
      "cell_type": "code",
      "metadata": {
        "colab": {
          "base_uri": "https://localhost:8080/"
        },
        "id": "x68207Kc7g7y",
        "outputId": "9f2a178c-bb8b-40ba-e6ab-b3413a8f96a7"
      },
      "source": [
        "print('Augmented Dickey-Fuller Test')\n",
        "\n",
        "dfout = pd.Series(dftest[0:4],index=['ADF test statistic','p-value','# lags used','# observations'])\n",
        "\n",
        "for key,val in dftest[4].items():\n",
        "    dfout[f'critical value ({key})']=val\n",
        "print(dfout)"
      ],
      "execution_count": 163,
      "outputs": [
        {
          "output_type": "stream",
          "text": [
            "Augmented Dickey-Fuller Test\n",
            "ADF test statistic      -5.247519\n",
            "p-value                  0.000007\n",
            "# lags used             11.000000\n",
            "# observations          48.000000\n",
            "critical value (1%)     -3.574589\n",
            "critical value (5%)     -2.923954\n",
            "critical value (10%)    -2.600039\n",
            "dtype: float64\n"
          ],
          "name": "stdout"
        }
      ]
    },
    {
      "cell_type": "code",
      "metadata": {
        "id": "GI3QiCgYJpGt"
      },
      "source": [
        "# To deal with seasonality, lets manually differnce the data to see if it becomes stationary\n",
        "\n",
        "first_dif = df[\"sales\"].diff()[1:]"
      ],
      "execution_count": 164,
      "outputs": []
    },
    {
      "cell_type": "code",
      "metadata": {
        "colab": {
          "base_uri": "https://localhost:8080/"
        },
        "id": "omx1HvVAPwuM",
        "outputId": "1a8e1ce9-4131-4b9e-d2c6-a4b847780448"
      },
      "source": [
        "len(first_dif)"
      ],
      "execution_count": 165,
      "outputs": [
        {
          "output_type": "execute_result",
          "data": {
            "text/plain": [
              "59"
            ]
          },
          "metadata": {},
          "execution_count": 165
        }
      ]
    },
    {
      "cell_type": "code",
      "metadata": {
        "colab": {
          "base_uri": "https://localhost:8080/",
          "height": 336
        },
        "id": "U2ifc4YDKfQ-",
        "outputId": "65873ef2-df56-4db7-949f-8aac4c5fc281"
      },
      "source": [
        "# First differencing removes the trend but seasonality still exist\n",
        "\n",
        "title='1st Diff Total Montly Sales'\n",
        "ylabel='Dollar Amount'\n",
        "xlabel='' # we don't really need a label here\n",
        "\n",
        "ax = first_dif.plot(figsize=(12,5),title=title)\n",
        "ax.autoscale(axis='x',tight=True)\n",
        "ax.set(xlabel=xlabel, ylabel=ylabel);"
      ],
      "execution_count": 166,
      "outputs": [
        {
          "output_type": "display_data",
          "data": {
            "image/png": "[encoded data removed]",
            "text/plain": [
              "<Figure size 864x360 with 1 Axes>"
            ]
          },
          "metadata": {
            "needs_background": "light"
          }
        }
      ]
    },
    {
      "cell_type": "code",
      "metadata": {
        "colab": {
          "base_uri": "https://localhost:8080/",
          "height": 281
        },
        "id": "1SCVNDUJMMaP",
        "outputId": "8ed67dff-fb76-4fe7-d33a-6d39f6403c6e"
      },
      "source": [
        "#Next, creating an ACF will identify the  number of lags for the seasonal MA part of the model\n",
        "#Based on the chart it appears that seasonality is 12 months\n",
        "\n",
        "# Outside blue shading is signficant \n",
        "\n",
        "plot_acf(first_dif, lags = 15)\n",
        "plt.show()"
      ],
      "execution_count": 167,
      "outputs": [
        {
          "output_type": "display_data",
          "data": {
            "image/png": "[encoded data removed]",
            "text/plain": [
              "<Figure size 432x288 with 1 Axes>"
            ]
          },
          "metadata": {
            "needs_background": "light"
          }
        }
      ]
    },
    {
      "cell_type": "code",
      "metadata": {
        "colab": {
          "base_uri": "https://localhost:8080/",
          "height": 281
        },
        "id": "d399-qL_OTOr",
        "outputId": "c034aaed-1e22-465d-93d6-caf5f10b8293"
      },
      "source": [
        "#The pacf chart shows the seasonal AR should contain 12 months\n",
        "\n",
        "#lag 15 seems to be quite correlated, due to 12 month seasonality this seems odd and that it is about 1 but will be noted for when modeling (if intial 12 produces bad prediction results)\n",
        "\n",
        "plot_pacf(first_dif, lags = 15)\n",
        "plt.show()"
      ],
      "execution_count": 169,
      "outputs": [
        {
          "output_type": "display_data",
          "data": {
            "image/png": "[encoded data removed]",
            "text/plain": [
              "<Figure size 432x288 with 1 Axes>"
            ]
          },
          "metadata": {
            "needs_background": "light"
          }
        }
      ]
    },
    {
      "cell_type": "code",
      "metadata": {
        "colab": {
          "base_uri": "https://localhost:8080/"
        },
        "id": "m4k5RWs28dTq",
        "outputId": "fd706d99-dd85-4dec-fd27-cb08374b6588"
      },
      "source": [
        "# Initializing and finding the right parameters for the model\n",
        "\n",
        "# SARIMA - due to the seasonality of the data we will use this model over an ARIMA (which is an extenstion of the ARIMA model but deals with seasonlity )\n",
        "# The below auto_arima function essentially peforms a grid search for the beast model parameters\n",
        "\n",
        "\n",
        "print(auto_arima (df['sales'],seasonal=True,m=12).summary())"
      ],
      "execution_count": 170,
      "outputs": [
        {
          "output_type": "stream",
          "text": [
            "                                        SARIMAX Results                                        \n",
            "===============================================================================================\n",
            "Dep. Variable:                                       y   No. Observations:                   60\n",
            "Model:             SARIMAX(0, 1, 0)x(2, 1, [1, 2], 12)   Log Likelihood                -512.073\n",
            "Date:                                 Mon, 30 Aug 2021   AIC                           1034.146\n",
            "Time:                                         00:43:19   BIC                           1043.397\n",
            "Sample:                                              0   HQIC                          1037.627\n",
            "                                                  - 60                                         \n",
            "Covariance Type:                                   opg                                         \n",
            "==============================================================================\n",
            "                 coef    std err          z      P>|z|      [0.025      0.975]\n",
            "------------------------------------------------------------------------------\n",
            "ar.S.L12      -0.0893      0.956     -0.093      0.926      -1.964       1.785\n",
            "ar.S.L24       0.6035      0.498      1.212      0.226      -0.373       1.580\n",
            "ma.S.L12       0.2319      0.981      0.236      0.813      -1.691       2.155\n",
            "ma.S.L24      -0.5630      0.471     -1.196      0.232      -1.486       0.360\n",
            "sigma2      2.769e+08   4.26e-09    6.5e+16      0.000    2.77e+08    2.77e+08\n",
            "===================================================================================\n",
            "Ljung-Box (L1) (Q):                  16.13   Jarque-Bera (JB):                 0.17\n",
            "Prob(Q):                              0.00   Prob(JB):                         0.92\n",
            "Heteroskedasticity (H):               2.15   Skew:                            -0.13\n",
            "Prob(H) (two-sided):                  0.14   Kurtosis:                         2.85\n",
            "===================================================================================\n",
            "\n",
            "Warnings:\n",
            "[1] Covariance matrix calculated using the outer product of gradients (complex-step).\n",
            "[2] Covariance matrix is singular or near-singular, with condition number  1e+33. Standard errors may be unstable.\n"
          ],
          "name": "stdout"
        }
      ]
    },
    {
      "cell_type": "code",
      "metadata": {
        "colab": {
          "base_uri": "https://localhost:8080/"
        },
        "id": "lzCk96jw_5gW",
        "outputId": "397f039a-d5b6-46df-e2c8-6d41496ac581"
      },
      "source": [
        "# Since none of the parameters were statically significant, lets try what we found out earliar\n",
        "\n",
        "# First difference creates stationarity, seasonality is 12 months with one lag (ACF and PACF)\n",
        "\n",
        "# Nice, our parameters are now statistically signficant\n",
        "\n",
        "model = SARIMAX(df['sales'],order=(0,1,0),seasonal_order=(1,1,1,12))\n",
        "results = model.fit()\n",
        "print(results.summary())"
      ],
      "execution_count": 171,
      "outputs": [
        {
          "output_type": "stream",
          "text": [
            "                                      SARIMAX Results                                       \n",
            "============================================================================================\n",
            "Dep. Variable:                                sales   No. Observations:                   60\n",
            "Model:             SARIMAX(0, 1, 0)x(1, 1, [1], 12)   Log Likelihood                -514.987\n",
            "Date:                              Mon, 30 Aug 2021   AIC                           1035.974\n",
            "Time:                                      00:43:19   BIC                           1041.524\n",
            "Sample:                                  01-31-2013   HQIC                          1038.063\n",
            "                                       - 12-31-2017                                         \n",
            "Covariance Type:                                opg                                         \n",
            "==============================================================================\n",
            "                 coef    std err          z      P>|z|      [0.025      0.975]\n",
            "------------------------------------------------------------------------------\n",
            "ar.S.L12      -0.5606      0.102     -5.480      0.000      -0.761      -0.360\n",
            "ma.S.L12       0.6418      0.090      7.122      0.000       0.465       0.818\n",
            "sigma2      1.296e+08   2.47e-11   5.24e+18      0.000     1.3e+08     1.3e+08\n",
            "===================================================================================\n",
            "Ljung-Box (L1) (Q):                   6.58   Jarque-Bera (JB):                 0.55\n",
            "Prob(Q):                              0.01   Prob(JB):                         0.76\n",
            "Heteroskedasticity (H):               1.07   Skew:                            -0.25\n",
            "Prob(H) (two-sided):                  0.89   Kurtosis:                         2.81\n",
            "===================================================================================\n",
            "\n",
            "Warnings:\n",
            "[1] Covariance matrix calculated using the outer product of gradients (complex-step).\n",
            "[2] Covariance matrix is singular or near-singular, with condition number 5.75e+35. Standard errors may be unstable.\n"
          ],
          "name": "stdout"
        }
      ]
    },
    {
      "cell_type": "code",
      "metadata": {
        "colab": {
          "base_uri": "https://localhost:8080/"
        },
        "id": "ZLbUxtPBCo2X",
        "outputId": "a2302f21-7c96-45fa-c73a-37280d021173"
      },
      "source": [
        "#split data into train/test\n",
        "\n",
        "len(df)*.80\n",
        "\n"
      ],
      "execution_count": 172,
      "outputs": [
        {
          "output_type": "execute_result",
          "data": {
            "text/plain": [
              "48.0"
            ]
          },
          "metadata": {},
          "execution_count": 172
        }
      ]
    },
    {
      "cell_type": "code",
      "metadata": {
        "id": "fhQp_M5EDlhr"
      },
      "source": [
        "df_1=df.loc[:,'sales']"
      ],
      "execution_count": 173,
      "outputs": []
    },
    {
      "cell_type": "code",
      "metadata": {
        "id": "PuMATHP6C5Gu"
      },
      "source": [
        "train = df_1.iloc[:48]\n",
        "test = df_1.iloc[48:]"
      ],
      "execution_count": 174,
      "outputs": []
    },
    {
      "cell_type": "code",
      "metadata": {
        "id": "A87O6NHpCZPS"
      },
      "source": [
        "\n",
        "# Predict Values\n",
        "\n",
        "start=len(train)\n",
        "end=len(train)+len(test)-1\n",
        "predictions = results.predict(start=start, end=end, dynamic=False, typ='levels').rename('SARIMA Predictions').astype(int)\n"
      ],
      "execution_count": 175,
      "outputs": []
    },
    {
      "cell_type": "code",
      "metadata": {
        "colab": {
          "base_uri": "https://localhost:8080/",
          "height": 452
        },
        "id": "i1HF8a7MDY-9",
        "outputId": "3e70553e-870c-4ba7-fbd2-83a8fac651dc"
      },
      "source": [
        "# Compare predictions to expected values\n",
        "\n",
        "\n",
        "results_table=pd.concat([test, predictions,(test-predictions) ], axis= 1).rename(columns={0:\"Residuals_1\"})\n",
        "\n",
        "results_table\n"
      ],
      "execution_count": 176,
      "outputs": [
        {
          "output_type": "execute_result",
          "data": {
            "text/html": [
              "<div>\n",
              "<style scoped>\n",
              "    .dataframe tbody tr th:only-of-type {\n",
              "        vertical-align: middle;\n",
              "    }\n",
              "\n",
              "    .dataframe tbody tr th {\n",
              "        vertical-align: top;\n",
              "    }\n",
              "\n",
              "    .dataframe thead th {\n",
              "        text-align: right;\n",
              "    }\n",
              "</style>\n",
              "<table border=\"1\" class=\"dataframe\">\n",
              "  <thead>\n",
              "    <tr style=\"text-align: right;\">\n",
              "      <th></th>\n",
              "      <th>sales</th>\n",
              "      <th>SARIMA Predictions</th>\n",
              "      <th>Residuals_1</th>\n",
              "    </tr>\n",
              "    <tr>\n",
              "      <th>date</th>\n",
              "      <th></th>\n",
              "      <th></th>\n",
              "      <th></th>\n",
              "    </tr>\n",
              "  </thead>\n",
              "  <tbody>\n",
              "    <tr>\n",
              "      <th>2017-01-31</th>\n",
              "      <td>617306</td>\n",
              "      <td>639629</td>\n",
              "      <td>-22323</td>\n",
              "    </tr>\n",
              "    <tr>\n",
              "      <th>2017-02-28</th>\n",
              "      <td>621369</td>\n",
              "      <td>631020</td>\n",
              "      <td>-9651</td>\n",
              "    </tr>\n",
              "    <tr>\n",
              "      <th>2017-03-31</th>\n",
              "      <td>822667</td>\n",
              "      <td>794229</td>\n",
              "      <td>28438</td>\n",
              "    </tr>\n",
              "    <tr>\n",
              "      <th>2017-04-30</th>\n",
              "      <td>938862</td>\n",
              "      <td>934063</td>\n",
              "      <td>4799</td>\n",
              "    </tr>\n",
              "    <tr>\n",
              "      <th>2017-05-31</th>\n",
              "      <td>1020686</td>\n",
              "      <td>1022777</td>\n",
              "      <td>-2091</td>\n",
              "    </tr>\n",
              "    <tr>\n",
              "      <th>2017-06-30</th>\n",
              "      <td>1064624</td>\n",
              "      <td>1056328</td>\n",
              "      <td>8296</td>\n",
              "    </tr>\n",
              "    <tr>\n",
              "      <th>2017-07-31</th>\n",
              "      <td>1171393</td>\n",
              "      <td>1180561</td>\n",
              "      <td>-9168</td>\n",
              "    </tr>\n",
              "    <tr>\n",
              "      <th>2017-08-31</th>\n",
              "      <td>1026403</td>\n",
              "      <td>1012897</td>\n",
              "      <td>13506</td>\n",
              "    </tr>\n",
              "    <tr>\n",
              "      <th>2017-09-30</th>\n",
              "      <td>935263</td>\n",
              "      <td>943307</td>\n",
              "      <td>-8044</td>\n",
              "    </tr>\n",
              "    <tr>\n",
              "      <th>2017-10-31</th>\n",
              "      <td>891160</td>\n",
              "      <td>902367</td>\n",
              "      <td>-11207</td>\n",
              "    </tr>\n",
              "    <tr>\n",
              "      <th>2017-11-30</th>\n",
              "      <td>928837</td>\n",
              "      <td>918837</td>\n",
              "      <td>10000</td>\n",
              "    </tr>\n",
              "    <tr>\n",
              "      <th>2017-12-31</th>\n",
              "      <td>695170</td>\n",
              "      <td>702475</td>\n",
              "      <td>-7305</td>\n",
              "    </tr>\n",
              "  </tbody>\n",
              "</table>\n",
              "</div>"
            ],
            "text/plain": [
              "              sales  SARIMA Predictions  Residuals_1\n",
              "date                                                \n",
              "2017-01-31   617306              639629       -22323\n",
              "2017-02-28   621369              631020        -9651\n",
              "2017-03-31   822667              794229        28438\n",
              "2017-04-30   938862              934063         4799\n",
              "2017-05-31  1020686             1022777        -2091\n",
              "2017-06-30  1064624             1056328         8296\n",
              "2017-07-31  1171393             1180561        -9168\n",
              "2017-08-31  1026403             1012897        13506\n",
              "2017-09-30   935263              943307        -8044\n",
              "2017-10-31   891160              902367       -11207\n",
              "2017-11-30   928837              918837        10000\n",
              "2017-12-31   695170              702475        -7305"
            ]
          },
          "metadata": {},
          "execution_count": 176
        }
      ]
    },
    {
      "cell_type": "code",
      "metadata": {
        "colab": {
          "base_uri": "https://localhost:8080/",
          "height": 347
        },
        "id": "ZxyCuRvQpgKx",
        "outputId": "0d90a659-c591-4f7e-dcc7-63d7d14fee80"
      },
      "source": [
        "# Plotting the residuals - looks pretty random\n",
        "\n",
        "title='Residuals'\n",
        "ylabel='Dollar Amount'\n",
        "xlabel='' # we don't really need a label here\n",
        "\n",
        "ax = results_table[\"Residuals_1\"].plot(figsize=(12,5),title=title)\n",
        "ax.autoscale(axis='x',tight=True)\n",
        "ax.set(xlabel=xlabel, ylabel=ylabel);"
      ],
      "execution_count": 177,
      "outputs": [
        {
          "output_type": "display_data",
          "data": {
            "image/png": "[encoded data removed]",
            "text/plain": [
              "<Figure size 864x360 with 1 Axes>"
            ]
          },
          "metadata": {
            "needs_background": "light"
          }
        }
      ]
    },
    {
      "cell_type": "code",
      "metadata": {
        "colab": {
          "base_uri": "https://localhost:8080/",
          "height": 286
        },
        "id": "_UC-8Mt0mNhO",
        "outputId": "2cf344d9-5466-4c6a-d67f-7d5d8ec1f476"
      },
      "source": [
        "# Visually it looks like the model does a pretty good job at predicting sales 1 year in advance\n",
        "\n",
        "\n",
        "plt.figure(figsize=(10,4))\n",
        "\n",
        "plt.plot(results_table[\"SARIMA Predictions\"])\n",
        "plt.plot(df[\"sales\"])\n",
        "\n",
        "plt.legend(('Predictions', 'Sales'), fontsize=16)\n",
        "\n",
        "plt.title('Sales vs Predictions', fontsize=20)\n",
        "plt.ylabel('Dollar Amount', fontsize=16);"
      ],
      "execution_count": 178,
      "outputs": [
        {
          "output_type": "display_data",
          "data": {
            "image/png": "[encoded data removed]",
            "text/plain": [
              "<Figure size 720x288 with 1 Axes>"
            ]
          },
          "metadata": {
            "needs_background": "light"
          }
        }
      ]
    },
    {
      "cell_type": "code",
      "metadata": {
        "colab": {
          "base_uri": "https://localhost:8080/"
        },
        "id": "9DVxggOdqKEl",
        "outputId": "53690973-6e8a-402a-83a6-1d0780c59bca"
      },
      "source": [
        "#Evaluation metrics \n",
        "\n",
        "print('Mean Absolute Percent Error:', round(np.mean(abs(results_table[\"Residuals_1\"]/results_table[\"sales\"])),4))\n",
        "print('Root Mean Squared Error:', np.sqrt(np.mean(results_table[\"Residuals_1\"]**2)))"
      ],
      "execution_count": 179,
      "outputs": [
        {
          "output_type": "stream",
          "text": [
            "Mean Absolute Percent Error: 0.0137\n",
            "Root Mean Squared Error: 13249.321812832535\n"
          ],
          "name": "stdout"
        }
      ]
    },
    {
      "cell_type": "code",
      "metadata": {
        "id": "1tV6V71Dgyk0"
      },
      "source": [
        ""
      ],
      "execution_count": null,
      "outputs": []
    },
    {
      "cell_type": "markdown",
      "metadata": {
        "id": "6Wjwy075ttXa"
      },
      "source": [
        "# RNN for Time Series Forecasting"
      ]
    },
    {
      "cell_type": "code",
      "metadata": {
        "colab": {
          "base_uri": "https://localhost:8080/"
        },
        "id": "PHwPMND2tyoh",
        "outputId": "7428d992-6bb3-4e01-e4ba-d7eca459ece4"
      },
      "source": [
        "#Since we are now working with a nueral network, the data needs to be scaled\n",
        "\n",
        "scaler = MinMaxScaler()\n",
        "\n",
        "scaler.fit(np.array(train).reshape(-1,1))\n",
        "train_scaled= scaler.transform(np.array(train).reshape(-1,1))\n",
        "test_scaled = scaler.transform(np.array(test).reshape(-1,1))\n",
        "train_scaled[0:5], test_scaled[0:5]"
      ],
      "execution_count": 180,
      "outputs": [
        {
          "output_type": "execute_result",
          "data": {
            "text/plain": [
              "(array([[0.        ],\n",
              "        [0.00659975],\n",
              "        [0.23760555],\n",
              "        [0.3325027 ],\n",
              "        [0.45090917]]), array([[0.23749441],\n",
              "        [0.24343608],\n",
              "        [0.53781145],\n",
              "        [0.70773339],\n",
              "        [0.82739166]]))"
            ]
          },
          "metadata": {},
          "execution_count": 180
        }
      ]
    },
    {
      "cell_type": "code",
      "metadata": {
        "id": "_QsLmIzlnSRK"
      },
      "source": [
        "# The date needs to be formatted properly -- a 12 step sequence will be created to deal with the annual seasonality \n",
        "\n",
        "n_input  = 12\n",
        "n_features = 1 \n",
        "\n",
        "generator = TimeseriesGenerator(train_scaled,train_scaled,sampling_rate=1, length=n_input, batch_size=1)"
      ],
      "execution_count": 181,
      "outputs": []
    },
    {
      "cell_type": "code",
      "metadata": {
        "colab": {
          "base_uri": "https://localhost:8080/"
        },
        "id": "VHXHHn5knVdh",
        "outputId": "b35d603c-24f0-494f-c9cf-e8cfa6770ff8"
      },
      "source": [
        "len(train_scaled), len(generator)"
      ],
      "execution_count": 182,
      "outputs": [
        {
          "output_type": "execute_result",
          "data": {
            "text/plain": [
              "(48, 36)"
            ]
          },
          "metadata": {},
          "execution_count": 182
        }
      ]
    },
    {
      "cell_type": "code",
      "metadata": {
        "colab": {
          "base_uri": "https://localhost:8080/"
        },
        "id": "ytEI0riInyuY",
        "outputId": "3ff8fc9f-63aa-4fd9-c759-dff083460590"
      },
      "source": [
        "generator[0][1],generator[0][1][0]"
      ],
      "execution_count": 183,
      "outputs": [
        {
          "output_type": "execute_result",
          "data": {
            "text/plain": [
              "(array([[0.10395078]]), array([0.10395078]))"
            ]
          },
          "metadata": {},
          "execution_count": 183
        }
      ]
    },
    {
      "cell_type": "code",
      "metadata": {
        "id": "JouZ3i9cqKtO"
      },
      "source": [
        "model = Sequential()\n",
        "\n",
        "model.add(LSTM(150, activation='relu', input_shape = (n_input,n_features)))\n",
        "model.add(Dense(1))\n",
        "model.compile(optimizer = 'adam', loss = 'mse')"
      ],
      "execution_count": 184,
      "outputs": []
    },
    {
      "cell_type": "code",
      "metadata": {
        "colab": {
          "base_uri": "https://localhost:8080/"
        },
        "id": "yJ1OstWEq_0j",
        "outputId": "012719d1-0aa5-4967-f6cd-70f02d16401f"
      },
      "source": [
        "model.summary()"
      ],
      "execution_count": 185,
      "outputs": [
        {
          "output_type": "stream",
          "text": [
            "Model: \"sequential_2\"\n",
            "_________________________________________________________________\n",
            "Layer (type)                 Output Shape              Param #   \n",
            "=================================================================\n",
            "lstm_2 (LSTM)                (None, 150)               91200     \n",
            "_________________________________________________________________\n",
            "dense_2 (Dense)              (None, 1)                 151       \n",
            "=================================================================\n",
            "Total params: 91,351\n",
            "Trainable params: 91,351\n",
            "Non-trainable params: 0\n",
            "_________________________________________________________________\n"
          ],
          "name": "stdout"
        }
      ]
    },
    {
      "cell_type": "code",
      "metadata": {
        "colab": {
          "base_uri": "https://localhost:8080/"
        },
        "id": "wSdNFlsR3x7H",
        "outputId": "fb71abfb-3efe-4610-fdcd-899158327509"
      },
      "source": [
        "type(generator)"
      ],
      "execution_count": 186,
      "outputs": [
        {
          "output_type": "execute_result",
          "data": {
            "text/plain": [
              "tensorflow.python.keras.preprocessing.sequence.TimeseriesGenerator"
            ]
          },
          "metadata": {},
          "execution_count": 186
        }
      ]
    },
    {
      "cell_type": "code",
      "metadata": {
        "colab": {
          "base_uri": "https://localhost:8080/"
        },
        "id": "TDjxtGxPrPeK",
        "outputId": "afef4ba8-19da-46e2-d3f4-386378e2e636"
      },
      "source": [
        "model.fit(generator,epochs=50)"
      ],
      "execution_count": 187,
      "outputs": [
        {
          "output_type": "stream",
          "text": [
            "Epoch 1/50\n",
            "36/36 [==============================] - 4s 32ms/step - loss: 0.1196\n",
            "Epoch 2/50\n",
            "36/36 [==============================] - 1s 31ms/step - loss: 0.0571\n",
            "Epoch 3/50\n",
            "36/36 [==============================] - 1s 30ms/step - loss: 0.0523\n",
            "Epoch 4/50\n",
            "36/36 [==============================] - 1s 29ms/step - loss: 0.0439\n",
            "Epoch 5/50\n",
            "36/36 [==============================] - 1s 30ms/step - loss: 0.0327\n",
            "Epoch 6/50\n",
            "36/36 [==============================] - 1s 29ms/step - loss: 0.0285\n",
            "Epoch 7/50\n",
            "36/36 [==============================] - 1s 30ms/step - loss: 0.0233\n",
            "Epoch 8/50\n",
            "36/36 [==============================] - 1s 30ms/step - loss: 0.0935\n",
            "Epoch 9/50\n",
            "36/36 [==============================] - 1s 30ms/step - loss: 0.0356\n",
            "Epoch 10/50\n",
            "36/36 [==============================] - 1s 29ms/step - loss: 0.0300\n",
            "Epoch 11/50\n",
            "36/36 [==============================] - 1s 30ms/step - loss: 0.0257\n",
            "Epoch 12/50\n",
            "36/36 [==============================] - 1s 29ms/step - loss: 0.0187\n",
            "Epoch 13/50\n",
            "36/36 [==============================] - 1s 30ms/step - loss: 0.0121\n",
            "Epoch 14/50\n",
            "36/36 [==============================] - 1s 29ms/step - loss: 0.0134\n",
            "Epoch 15/50\n",
            "36/36 [==============================] - 1s 30ms/step - loss: 0.0118\n",
            "Epoch 16/50\n",
            "36/36 [==============================] - 1s 29ms/step - loss: 0.0138\n",
            "Epoch 17/50\n",
            "36/36 [==============================] - 1s 30ms/step - loss: 0.0094\n",
            "Epoch 18/50\n",
            "36/36 [==============================] - 1s 29ms/step - loss: 0.0078\n",
            "Epoch 19/50\n",
            "36/36 [==============================] - 1s 29ms/step - loss: 0.0081\n",
            "Epoch 20/50\n",
            "36/36 [==============================] - 1s 29ms/step - loss: 0.0072\n",
            "Epoch 21/50\n",
            "36/36 [==============================] - 1s 30ms/step - loss: 0.0100\n",
            "Epoch 22/50\n",
            "36/36 [==============================] - 1s 29ms/step - loss: 0.0063\n",
            "Epoch 23/50\n",
            "36/36 [==============================] - 1s 29ms/step - loss: 0.0068\n",
            "Epoch 24/50\n",
            "36/36 [==============================] - 1s 31ms/step - loss: 0.0070\n",
            "Epoch 25/50\n",
            "36/36 [==============================] - 1s 29ms/step - loss: 0.0051\n",
            "Epoch 26/50\n",
            "36/36 [==============================] - 1s 30ms/step - loss: 0.0052\n",
            "Epoch 27/50\n",
            "36/36 [==============================] - 1s 29ms/step - loss: 0.0062\n",
            "Epoch 28/50\n",
            "36/36 [==============================] - 1s 29ms/step - loss: 0.0076\n",
            "Epoch 29/50\n",
            "36/36 [==============================] - 1s 29ms/step - loss: 0.0055\n",
            "Epoch 30/50\n",
            "36/36 [==============================] - 1s 30ms/step - loss: 0.0127\n",
            "Epoch 31/50\n",
            "36/36 [==============================] - 1s 29ms/step - loss: 0.1038\n",
            "Epoch 32/50\n",
            "36/36 [==============================] - 1s 29ms/step - loss: 0.0337\n",
            "Epoch 33/50\n",
            "36/36 [==============================] - 1s 29ms/step - loss: 0.0261\n",
            "Epoch 34/50\n",
            "36/36 [==============================] - 1s 29ms/step - loss: 0.0206\n",
            "Epoch 35/50\n",
            "36/36 [==============================] - 1s 29ms/step - loss: 0.0212\n",
            "Epoch 36/50\n",
            "36/36 [==============================] - 1s 30ms/step - loss: 0.0134\n",
            "Epoch 37/50\n",
            "36/36 [==============================] - 1s 30ms/step - loss: 0.0100\n",
            "Epoch 38/50\n",
            "36/36 [==============================] - 1s 29ms/step - loss: 0.0075\n",
            "Epoch 39/50\n",
            "36/36 [==============================] - 1s 30ms/step - loss: 0.0074\n",
            "Epoch 40/50\n",
            "36/36 [==============================] - 1s 30ms/step - loss: 0.0062\n",
            "Epoch 41/50\n",
            "36/36 [==============================] - 1s 29ms/step - loss: 0.0061\n",
            "Epoch 42/50\n",
            "36/36 [==============================] - 1s 29ms/step - loss: 0.0053\n",
            "Epoch 43/50\n",
            "36/36 [==============================] - 1s 29ms/step - loss: 0.0048\n",
            "Epoch 44/50\n",
            "36/36 [==============================] - 1s 31ms/step - loss: 0.0046\n",
            "Epoch 45/50\n",
            "36/36 [==============================] - 1s 30ms/step - loss: 0.0047\n",
            "Epoch 46/50\n",
            "36/36 [==============================] - 1s 30ms/step - loss: 0.0042\n",
            "Epoch 47/50\n",
            "36/36 [==============================] - 1s 30ms/step - loss: 0.0042\n",
            "Epoch 48/50\n",
            "36/36 [==============================] - 1s 29ms/step - loss: 0.0058\n",
            "Epoch 49/50\n",
            "36/36 [==============================] - 1s 29ms/step - loss: 0.0044\n",
            "Epoch 50/50\n",
            "36/36 [==============================] - 1s 30ms/step - loss: 0.0050\n"
          ],
          "name": "stdout"
        },
        {
          "output_type": "execute_result",
          "data": {
            "text/plain": [
              "<tensorflow.python.keras.callbacks.History at 0x7f55a9b34d50>"
            ]
          },
          "metadata": {},
          "execution_count": 187
        }
      ]
    },
    {
      "cell_type": "code",
      "metadata": {
        "colab": {
          "base_uri": "https://localhost:8080/",
          "height": 265
        },
        "id": "3h2pwyeV9Iz4",
        "outputId": "20b657d4-b379-48a8-aa45-d4a696a109ea"
      },
      "source": [
        "#Plot epochs vs MSE (loss function for the RNN)\n",
        "\n",
        "#the model converged to its min MSE\n",
        "\n",
        "loss = model.history.history['loss']\n",
        "\n",
        "plt.plot(range(len(loss)),loss)\n",
        "plt.show()"
      ],
      "execution_count": 188,
      "outputs": [
        {
          "output_type": "display_data",
          "data": {
            "image/png": "[encoded data removed]",
            "text/plain": [
              "<Figure size 432x288 with 1 Axes>"
            ]
          },
          "metadata": {
            "needs_background": "light"
          }
        }
      ]
    },
    {
      "cell_type": "code",
      "metadata": {
        "colab": {
          "base_uri": "https://localhost:8080/"
        },
        "id": "L2LxAjyP_ftx",
        "outputId": "1bfa9e54-4a27-41b3-e7b9-f9c49579dc24"
      },
      "source": [
        "first_eval_batch = train_scaled[-12:]\n",
        "first_eval_batch\n"
      ],
      "execution_count": 189,
      "outputs": [
        {
          "output_type": "execute_result",
          "data": {
            "text/plain": [
              "array([[0.21575311],\n",
              "       [0.23405926],\n",
              "       [0.49132805],\n",
              "       [0.6537538 ],\n",
              "       [0.78065965],\n",
              "       [0.83028426],\n",
              "       [1.        ],\n",
              "       [0.77007783],\n",
              "       [0.64626784],\n",
              "       [0.5977254 ],\n",
              "       [0.63839582],\n",
              "       [0.30491771]])"
            ]
          },
          "metadata": {},
          "execution_count": 189
        }
      ]
    },
    {
      "cell_type": "code",
      "metadata": {
        "colab": {
          "base_uri": "https://localhost:8080/"
        },
        "id": "1eSUQYETCCDn",
        "outputId": "ca8559a0-64fb-41e5-f8da-cca68e62523b"
      },
      "source": [
        "first_eval_batch=first_eval_batch.reshape((1,n_input,n_features))\n",
        "x=model.predict(first_eval_batch)[0]\n",
        "x"
      ],
      "execution_count": 190,
      "outputs": [
        {
          "output_type": "execute_result",
          "data": {
            "text/plain": [
              "array([0.24921454], dtype=float32)"
            ]
          },
          "metadata": {},
          "execution_count": 190
        }
      ]
    },
    {
      "cell_type": "code",
      "metadata": {
        "id": "-IwuhJwhC8Qm"
      },
      "source": [
        "#forecasting\n",
        "\n",
        "test_predictions = []\n",
        "\n",
        "#first 12 data points from test test\n",
        "first_eval_batch = train_scaled[-n_input:]\n",
        "#reshaped to fit RNN input shape\n",
        "current_batch = first_eval_batch.reshape((1,n_input,n_features))\n",
        "\n",
        "for i in range(len(test_scaled)):\n",
        "\n",
        "  \n",
        "  current_pred = model.predict(current_batch)[0]\n",
        "\n",
        "  test_predictions.append(current_pred)\n",
        "\n",
        "  #removes first data and replaces with prediction\n",
        "  current_batch = np.append(current_batch[:,1:,:],[[current_pred]], axis=1)\n"
      ],
      "execution_count": 191,
      "outputs": []
    },
    {
      "cell_type": "code",
      "metadata": {
        "id": "FSa67PbOIUvX"
      },
      "source": [
        "true_predictions=scaler.inverse_transform(test_predictions)"
      ],
      "execution_count": 192,
      "outputs": []
    },
    {
      "cell_type": "code",
      "metadata": {
        "colab": {
          "base_uri": "https://localhost:8080/",
          "height": 452
        },
        "id": "StKgXqvZIde_",
        "outputId": "3af6d302-3293-4499-a2f9-765dd313a6ac"
      },
      "source": [
        "results_table['RNN Predictions']=np.around(true_predictions).astype(int)\n",
        "results_table['Residuals_2']= results_table[\"sales\"]-results_table['RNN Predictions']\n",
        "results_table"
      ],
      "execution_count": 193,
      "outputs": [
        {
          "output_type": "execute_result",
          "data": {
            "text/html": [
              "<div>\n",
              "<style scoped>\n",
              "    .dataframe tbody tr th:only-of-type {\n",
              "        vertical-align: middle;\n",
              "    }\n",
              "\n",
              "    .dataframe tbody tr th {\n",
              "        vertical-align: top;\n",
              "    }\n",
              "\n",
              "    .dataframe thead th {\n",
              "        text-align: right;\n",
              "    }\n",
              "</style>\n",
              "<table border=\"1\" class=\"dataframe\">\n",
              "  <thead>\n",
              "    <tr style=\"text-align: right;\">\n",
              "      <th></th>\n",
              "      <th>sales</th>\n",
              "      <th>SARIMA Predictions</th>\n",
              "      <th>Residuals_1</th>\n",
              "      <th>RNN Predictions</th>\n",
              "      <th>Residuals_2</th>\n",
              "    </tr>\n",
              "    <tr>\n",
              "      <th>date</th>\n",
              "      <th></th>\n",
              "      <th></th>\n",
              "      <th></th>\n",
              "      <th></th>\n",
              "      <th></th>\n",
              "    </tr>\n",
              "  </thead>\n",
              "  <tbody>\n",
              "    <tr>\n",
              "      <th>2017-01-31</th>\n",
              "      <td>617306</td>\n",
              "      <td>639629</td>\n",
              "      <td>-22323</td>\n",
              "      <td>625320</td>\n",
              "      <td>-8014</td>\n",
              "    </tr>\n",
              "    <tr>\n",
              "      <th>2017-02-28</th>\n",
              "      <td>621369</td>\n",
              "      <td>631020</td>\n",
              "      <td>-9651</td>\n",
              "      <td>673018</td>\n",
              "      <td>-51649</td>\n",
              "    </tr>\n",
              "    <tr>\n",
              "      <th>2017-03-31</th>\n",
              "      <td>822667</td>\n",
              "      <td>794229</td>\n",
              "      <td>28438</td>\n",
              "      <td>780808</td>\n",
              "      <td>41859</td>\n",
              "    </tr>\n",
              "    <tr>\n",
              "      <th>2017-04-30</th>\n",
              "      <td>938862</td>\n",
              "      <td>934063</td>\n",
              "      <td>4799</td>\n",
              "      <td>900876</td>\n",
              "      <td>37986</td>\n",
              "    </tr>\n",
              "    <tr>\n",
              "      <th>2017-05-31</th>\n",
              "      <td>1020686</td>\n",
              "      <td>1022777</td>\n",
              "      <td>-2091</td>\n",
              "      <td>1005845</td>\n",
              "      <td>14841</td>\n",
              "    </tr>\n",
              "    <tr>\n",
              "      <th>2017-06-30</th>\n",
              "      <td>1064624</td>\n",
              "      <td>1056328</td>\n",
              "      <td>8296</td>\n",
              "      <td>1069016</td>\n",
              "      <td>-4392</td>\n",
              "    </tr>\n",
              "    <tr>\n",
              "      <th>2017-07-31</th>\n",
              "      <td>1171393</td>\n",
              "      <td>1180561</td>\n",
              "      <td>-9168</td>\n",
              "      <td>1091631</td>\n",
              "      <td>79762</td>\n",
              "    </tr>\n",
              "    <tr>\n",
              "      <th>2017-08-31</th>\n",
              "      <td>1026403</td>\n",
              "      <td>1012897</td>\n",
              "      <td>13506</td>\n",
              "      <td>1031753</td>\n",
              "      <td>-5350</td>\n",
              "    </tr>\n",
              "    <tr>\n",
              "      <th>2017-09-30</th>\n",
              "      <td>935263</td>\n",
              "      <td>943307</td>\n",
              "      <td>-8044</td>\n",
              "      <td>957462</td>\n",
              "      <td>-22199</td>\n",
              "    </tr>\n",
              "    <tr>\n",
              "      <th>2017-10-31</th>\n",
              "      <td>891160</td>\n",
              "      <td>902367</td>\n",
              "      <td>-11207</td>\n",
              "      <td>932362</td>\n",
              "      <td>-41202</td>\n",
              "    </tr>\n",
              "    <tr>\n",
              "      <th>2017-11-30</th>\n",
              "      <td>928837</td>\n",
              "      <td>918837</td>\n",
              "      <td>10000</td>\n",
              "      <td>873341</td>\n",
              "      <td>55496</td>\n",
              "    </tr>\n",
              "    <tr>\n",
              "      <th>2017-12-31</th>\n",
              "      <td>695170</td>\n",
              "      <td>702475</td>\n",
              "      <td>-7305</td>\n",
              "      <td>671326</td>\n",
              "      <td>23844</td>\n",
              "    </tr>\n",
              "  </tbody>\n",
              "</table>\n",
              "</div>"
            ],
            "text/plain": [
              "              sales  SARIMA Predictions  ...  RNN Predictions  Residuals_2\n",
              "date                                     ...                              \n",
              "2017-01-31   617306              639629  ...           625320        -8014\n",
              "2017-02-28   621369              631020  ...           673018       -51649\n",
              "2017-03-31   822667              794229  ...           780808        41859\n",
              "2017-04-30   938862              934063  ...           900876        37986\n",
              "2017-05-31  1020686             1022777  ...          1005845        14841\n",
              "2017-06-30  1064624             1056328  ...          1069016        -4392\n",
              "2017-07-31  1171393             1180561  ...          1091631        79762\n",
              "2017-08-31  1026403             1012897  ...          1031753        -5350\n",
              "2017-09-30   935263              943307  ...           957462       -22199\n",
              "2017-10-31   891160              902367  ...           932362       -41202\n",
              "2017-11-30   928837              918837  ...           873341        55496\n",
              "2017-12-31   695170              702475  ...           671326        23844\n",
              "\n",
              "[12 rows x 5 columns]"
            ]
          },
          "metadata": {},
          "execution_count": 193
        }
      ]
    },
    {
      "cell_type": "code",
      "metadata": {
        "colab": {
          "base_uri": "https://localhost:8080/",
          "height": 286
        },
        "id": "wNlVGV9UM86f",
        "outputId": "9427d3f2-ce27-4a5a-ff39-cc15d5c20ed7"
      },
      "source": [
        "plt.figure(figsize=(10,4))\n",
        "\n",
        "plt.plot(results_table[\"RNN Predictions\"])\n",
        "plt.plot(df[\"sales\"])\n",
        "\n",
        "plt.legend(('Predictions', 'Sales'), fontsize=16)\n",
        "\n",
        "plt.title('Sales vs Predictions', fontsize=20)\n",
        "plt.ylabel('Dollar Amount', fontsize=16);"
      ],
      "execution_count": 194,
      "outputs": [
        {
          "output_type": "display_data",
          "data": {
            "image/png": "[encoded data removed]",
            "text/plain": [
              "<Figure size 720x288 with 1 Axes>"
            ]
          },
          "metadata": {
            "needs_background": "light"
          }
        }
      ]
    },
    {
      "cell_type": "code",
      "metadata": {
        "colab": {
          "base_uri": "https://localhost:8080/"
        },
        "id": "U56ARUg2NGF9",
        "outputId": "0a5957bb-94d1-4124-f229-4464956da31d"
      },
      "source": [
        "print('Mean Absolute Percent Error:', round(np.mean(abs(results_table[\"Residuals_2\"]/results_table[\"sales\"])),4))\n",
        "print('Root Mean Squared Error:', np.sqrt(np.mean(results_table[\"Residuals_2\"]**2)))"
      ],
      "execution_count": 195,
      "outputs": [
        {
          "output_type": "stream",
          "text": [
            "Mean Absolute Percent Error: 0.037\n",
            "Root Mean Squared Error: 39153.37609964178\n"
          ],
          "name": "stdout"
        }
      ]
    },
    {
      "cell_type": "markdown",
      "metadata": {
        "id": "oc4B_a1W9fAF"
      },
      "source": [
        "# Prophet \n"
      ]
    },
    {
      "cell_type": "code",
      "metadata": {
        "colab": {
          "base_uri": "https://localhost:8080/",
          "height": 235
        },
        "id": "OSonBtz7sO1K",
        "outputId": "dd658888-bcf5-4488-a08c-e4e099a515cd"
      },
      "source": [
        "#Prophet requires a diff data format than the SARIMA model\n",
        "\n",
        "df.head()"
      ],
      "execution_count": 196,
      "outputs": [
        {
          "output_type": "execute_result",
          "data": {
            "text/html": [
              "<div>\n",
              "<style scoped>\n",
              "    .dataframe tbody tr th:only-of-type {\n",
              "        vertical-align: middle;\n",
              "    }\n",
              "\n",
              "    .dataframe tbody tr th {\n",
              "        vertical-align: top;\n",
              "    }\n",
              "\n",
              "    .dataframe thead th {\n",
              "        text-align: right;\n",
              "    }\n",
              "</style>\n",
              "<table border=\"1\" class=\"dataframe\">\n",
              "  <thead>\n",
              "    <tr style=\"text-align: right;\">\n",
              "      <th></th>\n",
              "      <th>store</th>\n",
              "      <th>item</th>\n",
              "      <th>sales</th>\n",
              "      <th>3-month-SMA</th>\n",
              "      <th>3-month-Std</th>\n",
              "    </tr>\n",
              "    <tr>\n",
              "      <th>date</th>\n",
              "      <th></th>\n",
              "      <th></th>\n",
              "      <th></th>\n",
              "      <th></th>\n",
              "      <th></th>\n",
              "    </tr>\n",
              "  </thead>\n",
              "  <tbody>\n",
              "    <tr>\n",
              "      <th>2013-01-31</th>\n",
              "      <td>85250</td>\n",
              "      <td>395250</td>\n",
              "      <td>454904</td>\n",
              "      <td>NaN</td>\n",
              "      <td>NaN</td>\n",
              "    </tr>\n",
              "    <tr>\n",
              "      <th>2013-02-28</th>\n",
              "      <td>77000</td>\n",
              "      <td>357000</td>\n",
              "      <td>459417</td>\n",
              "      <td>NaN</td>\n",
              "      <td>NaN</td>\n",
              "    </tr>\n",
              "    <tr>\n",
              "      <th>2013-03-31</th>\n",
              "      <td>85250</td>\n",
              "      <td>395250</td>\n",
              "      <td>617382</td>\n",
              "      <td>510567.666667</td>\n",
              "      <td>92531.444095</td>\n",
              "    </tr>\n",
              "    <tr>\n",
              "      <th>2013-04-30</th>\n",
              "      <td>82500</td>\n",
              "      <td>382500</td>\n",
              "      <td>682274</td>\n",
              "      <td>586357.666667</td>\n",
              "      <td>114621.954949</td>\n",
              "    </tr>\n",
              "    <tr>\n",
              "      <th>2013-05-31</th>\n",
              "      <td>85250</td>\n",
              "      <td>395250</td>\n",
              "      <td>763242</td>\n",
              "      <td>687632.666667</td>\n",
              "      <td>73077.502566</td>\n",
              "    </tr>\n",
              "  </tbody>\n",
              "</table>\n",
              "</div>"
            ],
            "text/plain": [
              "            store    item   sales    3-month-SMA    3-month-Std\n",
              "date                                                           \n",
              "2013-01-31  85250  395250  454904            NaN            NaN\n",
              "2013-02-28  77000  357000  459417            NaN            NaN\n",
              "2013-03-31  85250  395250  617382  510567.666667   92531.444095\n",
              "2013-04-30  82500  382500  682274  586357.666667  114621.954949\n",
              "2013-05-31  85250  395250  763242  687632.666667   73077.502566"
            ]
          },
          "metadata": {},
          "execution_count": 196
        }
      ]
    },
    {
      "cell_type": "code",
      "metadata": {
        "colab": {
          "base_uri": "https://localhost:8080/",
          "height": 204
        },
        "id": "X7dTQv20tM4P",
        "outputId": "34d944c0-b481-4fbb-f926-2de17e3785eb"
      },
      "source": [
        "#Formatting requirement - time stamp labelled as 'ds' and sales as \"y\"\n",
        "\n",
        "df_proph = df[[\"sales\"]]\n",
        "\n",
        "df_proph.reset_index(level=0, inplace=True)\n",
        "\n",
        "df_proph.rename(columns={\"date\":\"ds\",\"sales\":\"y\"},inplace=True)\n",
        "\n",
        "df_proph[\"ds\"]= pd.to_datetime(df_proph[\"ds\"]) #time stamp needs to be in to_datetime format\n",
        "\n",
        "df_proph.head()"
      ],
      "execution_count": 197,
      "outputs": [
        {
          "output_type": "execute_result",
          "data": {
            "text/html": [
              "<div>\n",
              "<style scoped>\n",
              "    .dataframe tbody tr th:only-of-type {\n",
              "        vertical-align: middle;\n",
              "    }\n",
              "\n",
              "    .dataframe tbody tr th {\n",
              "        vertical-align: top;\n",
              "    }\n",
              "\n",
              "    .dataframe thead th {\n",
              "        text-align: right;\n",
              "    }\n",
              "</style>\n",
              "<table border=\"1\" class=\"dataframe\">\n",
              "  <thead>\n",
              "    <tr style=\"text-align: right;\">\n",
              "      <th></th>\n",
              "      <th>ds</th>\n",
              "      <th>y</th>\n",
              "    </tr>\n",
              "  </thead>\n",
              "  <tbody>\n",
              "    <tr>\n",
              "      <th>0</th>\n",
              "      <td>2013-01-31</td>\n",
              "      <td>454904</td>\n",
              "    </tr>\n",
              "    <tr>\n",
              "      <th>1</th>\n",
              "      <td>2013-02-28</td>\n",
              "      <td>459417</td>\n",
              "    </tr>\n",
              "    <tr>\n",
              "      <th>2</th>\n",
              "      <td>2013-03-31</td>\n",
              "      <td>617382</td>\n",
              "    </tr>\n",
              "    <tr>\n",
              "      <th>3</th>\n",
              "      <td>2013-04-30</td>\n",
              "      <td>682274</td>\n",
              "    </tr>\n",
              "    <tr>\n",
              "      <th>4</th>\n",
              "      <td>2013-05-31</td>\n",
              "      <td>763242</td>\n",
              "    </tr>\n",
              "  </tbody>\n",
              "</table>\n",
              "</div>"
            ],
            "text/plain": [
              "          ds       y\n",
              "0 2013-01-31  454904\n",
              "1 2013-02-28  459417\n",
              "2 2013-03-31  617382\n",
              "3 2013-04-30  682274\n",
              "4 2013-05-31  763242"
            ]
          },
          "metadata": {},
          "execution_count": 197
        }
      ]
    },
    {
      "cell_type": "code",
      "metadata": {
        "colab": {
          "base_uri": "https://localhost:8080/"
        },
        "id": "_Qb3HCtkwiS1",
        "outputId": "738d44cb-6f22-43ee-f7e8-81f6dffb40c1"
      },
      "source": [
        "#Creating training and test set\n",
        "\n",
        "len(df_proph)*.80"
      ],
      "execution_count": 198,
      "outputs": [
        {
          "output_type": "execute_result",
          "data": {
            "text/plain": [
              "48.0"
            ]
          },
          "metadata": {},
          "execution_count": 198
        }
      ]
    },
    {
      "cell_type": "code",
      "metadata": {
        "id": "mlHManbCwkqQ"
      },
      "source": [
        "train = df_proph.iloc[:48,:]\n",
        "test = df_proph.iloc[48:,:]"
      ],
      "execution_count": 199,
      "outputs": []
    },
    {
      "cell_type": "code",
      "metadata": {
        "colab": {
          "base_uri": "https://localhost:8080/"
        },
        "id": "6kccFJlbsR0f",
        "outputId": "412e5903-4c04-4791-f64a-b42a5f4010d4"
      },
      "source": [
        "#Intiate the model\n",
        "\n",
        "model_proph = Prophet()\n",
        "\n",
        "#Fit the model\n",
        "\n",
        "model_proph.fit(train)\n",
        "\n",
        "#Create a dataframe for predictions\n",
        "\n",
        "future= model_proph.make_future_dataframe(periods=12, freq=\"M\")\n",
        "\n",
        "len(future) #lenght matches orginal dataframe"
      ],
      "execution_count": 200,
      "outputs": [
        {
          "output_type": "stream",
          "text": [
            "INFO:fbprophet:Disabling weekly seasonality. Run prophet with weekly_seasonality=True to override this.\n",
            "INFO:fbprophet:Disabling daily seasonality. Run prophet with daily_seasonality=True to override this.\n"
          ],
          "name": "stderr"
        },
        {
          "output_type": "execute_result",
          "data": {
            "text/plain": [
              "60"
            ]
          },
          "metadata": {},
          "execution_count": 200
        }
      ]
    },
    {
      "cell_type": "code",
      "metadata": {
        "id": "cwScaSZCyNrd"
      },
      "source": [
        "predit_proph = model_proph.predict(future)"
      ],
      "execution_count": 201,
      "outputs": []
    },
    {
      "cell_type": "code",
      "metadata": {
        "colab": {
          "base_uri": "https://localhost:8080/"
        },
        "id": "gV4i6s8z0Pad",
        "outputId": "56a8386e-5c8b-44b3-b50e-dd4acbc526f1"
      },
      "source": [
        "#the two import columns are \"ds\" (time stamp) and \"yhat\" (predictions)\n",
        "\n",
        "predit_proph.columns\n",
        "\n"
      ],
      "execution_count": 202,
      "outputs": [
        {
          "output_type": "execute_result",
          "data": {
            "text/plain": [
              "Index(['ds', 'trend', 'yhat_lower', 'yhat_upper', 'trend_lower', 'trend_upper',\n",
              "       'additive_terms', 'additive_terms_lower', 'additive_terms_upper',\n",
              "       'yearly', 'yearly_lower', 'yearly_upper', 'multiplicative_terms',\n",
              "       'multiplicative_terms_lower', 'multiplicative_terms_upper', 'yhat'],\n",
              "      dtype='object')"
            ]
          },
          "metadata": {},
          "execution_count": 202
        }
      ]
    },
    {
      "cell_type": "code",
      "metadata": {
        "colab": {
          "base_uri": "https://localhost:8080/",
          "height": 452
        },
        "id": "KPTv6Wvf0NTK",
        "outputId": "b46db65a-3f2d-4c8e-bb12-d04e64c2ed7f"
      },
      "source": [
        "results_table['Proph Predictions'] = list(map(int,predit_proph[\"yhat\"][-12:]))\n",
        "\n",
        "results_table['Residuals_3']= results_table[\"sales\"]-results_table['Proph Predictions']\n",
        "\n",
        "results_table"
      ],
      "execution_count": 203,
      "outputs": [
        {
          "output_type": "execute_result",
          "data": {
            "text/html": [
              "<div>\n",
              "<style scoped>\n",
              "    .dataframe tbody tr th:only-of-type {\n",
              "        vertical-align: middle;\n",
              "    }\n",
              "\n",
              "    .dataframe tbody tr th {\n",
              "        vertical-align: top;\n",
              "    }\n",
              "\n",
              "    .dataframe thead th {\n",
              "        text-align: right;\n",
              "    }\n",
              "</style>\n",
              "<table border=\"1\" class=\"dataframe\">\n",
              "  <thead>\n",
              "    <tr style=\"text-align: right;\">\n",
              "      <th></th>\n",
              "      <th>sales</th>\n",
              "      <th>SARIMA Predictions</th>\n",
              "      <th>Residuals_1</th>\n",
              "      <th>RNN Predictions</th>\n",
              "      <th>Residuals_2</th>\n",
              "      <th>Proph Predictions</th>\n",
              "      <th>Residuals_3</th>\n",
              "    </tr>\n",
              "    <tr>\n",
              "      <th>date</th>\n",
              "      <th></th>\n",
              "      <th></th>\n",
              "      <th></th>\n",
              "      <th></th>\n",
              "      <th></th>\n",
              "      <th></th>\n",
              "      <th></th>\n",
              "    </tr>\n",
              "  </thead>\n",
              "  <tbody>\n",
              "    <tr>\n",
              "      <th>2017-01-31</th>\n",
              "      <td>617306</td>\n",
              "      <td>639629</td>\n",
              "      <td>-22323</td>\n",
              "      <td>625320</td>\n",
              "      <td>-8014</td>\n",
              "      <td>712228</td>\n",
              "      <td>-94922</td>\n",
              "    </tr>\n",
              "    <tr>\n",
              "      <th>2017-02-28</th>\n",
              "      <td>621369</td>\n",
              "      <td>631020</td>\n",
              "      <td>-9651</td>\n",
              "      <td>673018</td>\n",
              "      <td>-51649</td>\n",
              "      <td>699799</td>\n",
              "      <td>-78430</td>\n",
              "    </tr>\n",
              "    <tr>\n",
              "      <th>2017-03-31</th>\n",
              "      <td>822667</td>\n",
              "      <td>794229</td>\n",
              "      <td>28438</td>\n",
              "      <td>780808</td>\n",
              "      <td>41859</td>\n",
              "      <td>871520</td>\n",
              "      <td>-48853</td>\n",
              "    </tr>\n",
              "    <tr>\n",
              "      <th>2017-04-30</th>\n",
              "      <td>938862</td>\n",
              "      <td>934063</td>\n",
              "      <td>4799</td>\n",
              "      <td>900876</td>\n",
              "      <td>37986</td>\n",
              "      <td>962749</td>\n",
              "      <td>-23887</td>\n",
              "    </tr>\n",
              "    <tr>\n",
              "      <th>2017-05-31</th>\n",
              "      <td>1020686</td>\n",
              "      <td>1022777</td>\n",
              "      <td>-2091</td>\n",
              "      <td>1005845</td>\n",
              "      <td>14841</td>\n",
              "      <td>1053696</td>\n",
              "      <td>-33010</td>\n",
              "    </tr>\n",
              "    <tr>\n",
              "      <th>2017-06-30</th>\n",
              "      <td>1064624</td>\n",
              "      <td>1056328</td>\n",
              "      <td>8296</td>\n",
              "      <td>1069016</td>\n",
              "      <td>-4392</td>\n",
              "      <td>1085903</td>\n",
              "      <td>-21279</td>\n",
              "    </tr>\n",
              "    <tr>\n",
              "      <th>2017-07-31</th>\n",
              "      <td>1171393</td>\n",
              "      <td>1180561</td>\n",
              "      <td>-9168</td>\n",
              "      <td>1091631</td>\n",
              "      <td>79762</td>\n",
              "      <td>1179991</td>\n",
              "      <td>-8598</td>\n",
              "    </tr>\n",
              "    <tr>\n",
              "      <th>2017-08-31</th>\n",
              "      <td>1026403</td>\n",
              "      <td>1012897</td>\n",
              "      <td>13506</td>\n",
              "      <td>1031753</td>\n",
              "      <td>-5350</td>\n",
              "      <td>1057645</td>\n",
              "      <td>-31242</td>\n",
              "    </tr>\n",
              "    <tr>\n",
              "      <th>2017-09-30</th>\n",
              "      <td>935263</td>\n",
              "      <td>943307</td>\n",
              "      <td>-8044</td>\n",
              "      <td>957462</td>\n",
              "      <td>-22199</td>\n",
              "      <td>970595</td>\n",
              "      <td>-35332</td>\n",
              "    </tr>\n",
              "    <tr>\n",
              "      <th>2017-10-31</th>\n",
              "      <td>891160</td>\n",
              "      <td>902367</td>\n",
              "      <td>-11207</td>\n",
              "      <td>932362</td>\n",
              "      <td>-41202</td>\n",
              "      <td>938752</td>\n",
              "      <td>-47592</td>\n",
              "    </tr>\n",
              "    <tr>\n",
              "      <th>2017-11-30</th>\n",
              "      <td>928837</td>\n",
              "      <td>918837</td>\n",
              "      <td>10000</td>\n",
              "      <td>873341</td>\n",
              "      <td>55496</td>\n",
              "      <td>971194</td>\n",
              "      <td>-42357</td>\n",
              "    </tr>\n",
              "    <tr>\n",
              "      <th>2017-12-31</th>\n",
              "      <td>695170</td>\n",
              "      <td>702475</td>\n",
              "      <td>-7305</td>\n",
              "      <td>671326</td>\n",
              "      <td>23844</td>\n",
              "      <td>756252</td>\n",
              "      <td>-61082</td>\n",
              "    </tr>\n",
              "  </tbody>\n",
              "</table>\n",
              "</div>"
            ],
            "text/plain": [
              "              sales  SARIMA Predictions  ...  Proph Predictions  Residuals_3\n",
              "date                                     ...                                \n",
              "2017-01-31   617306              639629  ...             712228       -94922\n",
              "2017-02-28   621369              631020  ...             699799       -78430\n",
              "2017-03-31   822667              794229  ...             871520       -48853\n",
              "2017-04-30   938862              934063  ...             962749       -23887\n",
              "2017-05-31  1020686             1022777  ...            1053696       -33010\n",
              "2017-06-30  1064624             1056328  ...            1085903       -21279\n",
              "2017-07-31  1171393             1180561  ...            1179991        -8598\n",
              "2017-08-31  1026403             1012897  ...            1057645       -31242\n",
              "2017-09-30   935263              943307  ...             970595       -35332\n",
              "2017-10-31   891160              902367  ...             938752       -47592\n",
              "2017-11-30   928837              918837  ...             971194       -42357\n",
              "2017-12-31   695170              702475  ...             756252       -61082\n",
              "\n",
              "[12 rows x 7 columns]"
            ]
          },
          "metadata": {},
          "execution_count": 203
        }
      ]
    },
    {
      "cell_type": "code",
      "metadata": {
        "colab": {
          "base_uri": "https://localhost:8080/",
          "height": 286
        },
        "id": "uSsdKw1A4A2P",
        "outputId": "a613e601-039c-47f4-c1ca-8709948f4d65"
      },
      "source": [
        "plt.figure(figsize=(10,4))\n",
        "\n",
        "plt.plot(results_table[\"Proph Predictions\"])\n",
        "plt.plot(df[\"sales\"])\n",
        "\n",
        "plt.legend(('Predictions', 'Sales'), fontsize=16)\n",
        "\n",
        "plt.title('Sales vs Predictions', fontsize=20)\n",
        "plt.ylabel('Dollar Amount', fontsize=16);"
      ],
      "execution_count": 204,
      "outputs": [
        {
          "output_type": "display_data",
          "data": {
            "image/png": "[encoded data removed]",
            "text/plain": [
              "<Figure size 720x288 with 1 Axes>"
            ]
          },
          "metadata": {
            "needs_background": "light"
          }
        }
      ]
    },
    {
      "cell_type": "code",
      "metadata": {
        "colab": {
          "base_uri": "https://localhost:8080/",
          "height": 347
        },
        "id": "kSSYj7Ys4UjQ",
        "outputId": "15865206-638b-48b5-c6ea-bceceda98352"
      },
      "source": [
        "#the residuals are not random \n",
        "\n",
        "title='Residuals'\n",
        "ylabel='Dollar Amount'\n",
        "xlabel='' # we don't really need a label here\n",
        "\n",
        "ax = results_table[\"Residuals_3\"].plot(figsize=(12,5),title=title)\n",
        "ax.autoscale(axis='x',tight=True)\n",
        "ax.set(xlabel=xlabel, ylabel=ylabel);"
      ],
      "execution_count": 205,
      "outputs": [
        {
          "output_type": "display_data",
          "data": {
            "image/png": "[encoded data removed]",
            "text/plain": [
              "<Figure size 864x360 with 1 Axes>"
            ]
          },
          "metadata": {
            "needs_background": "light"
          }
        }
      ]
    },
    {
      "cell_type": "code",
      "metadata": {
        "colab": {
          "base_uri": "https://localhost:8080/",
          "height": 281
        },
        "id": "7JjBObL3Npeu",
        "outputId": "ab22164f-4085-41c5-d7f6-a064a8e4e7cd"
      },
      "source": [
        "#No serial correlation in the residuals\n",
        "\n",
        "plot_acf(results_table[\"Residuals_3\"])\n",
        "plt.show()"
      ],
      "execution_count": 206,
      "outputs": [
        {
          "output_type": "display_data",
          "data": {
            "image/png": "[encoded data removed]",
            "text/plain": [
              "<Figure size 432x288 with 1 Axes>"
            ]
          },
          "metadata": {
            "needs_background": "light"
          }
        }
      ]
    },
    {
      "cell_type": "code",
      "metadata": {
        "colab": {
          "base_uri": "https://localhost:8080/"
        },
        "id": "ccfI-SO8QDWA",
        "outputId": "6a00ef8f-95ed-4c3c-e1d1-b01a69e5d831"
      },
      "source": [
        "\n",
        "\n",
        "print(\"*********SARIMA**********\")\n",
        "print('Mean Absolute Percent Error:', round(np.mean(abs(results_table[\"Residuals_1\"]/results_table[\"sales\"])),4))\n",
        "print('Root Mean Squared Error:', np.sqrt(np.mean(results_table[\"Residuals_1\"]**2)))\n",
        "print(\"\")\n",
        "\n",
        "print(\"*********LTSM**********\")\n",
        "print('Mean Absolute Percent Error:', round(np.mean(abs(results_table[\"Residuals_2\"]/results_table[\"sales\"])),4))\n",
        "print('Root Mean Squared Error:', np.sqrt(np.mean(results_table[\"Residuals_2\"]**2)))\n",
        "print(\"\")\n",
        "\n",
        "print(\"*********Prophet**********\")\n",
        "print('Mean Absolute Percent Error:', round(np.mean(abs(results_table[\"Residuals_3\"]/results_table[\"sales\"])),4))\n",
        "print('Root Mean Squared Error:', np.sqrt(np.mean(results_table[\"Residuals_3\"]**2)))"
      ],
      "execution_count": 208,
      "outputs": [
        {
          "output_type": "stream",
          "text": [
            "*********SARIMA**********\n",
            "Mean Absolute Percent Error: 0.0137\n",
            "Root Mean Squared Error: 13249.321812832535\n",
            "\n",
            "*********LTSM**********\n",
            "Mean Absolute Percent Error: 0.037\n",
            "Root Mean Squared Error: 39153.37609964178\n",
            "\n",
            "*********Prophet**********\n",
            "Mean Absolute Percent Error: 0.0566\n",
            "Root Mean Squared Error: 49790.8746090419\n"
          ],
          "name": "stdout"
        }
      ]
    },
    {
      "cell_type": "markdown",
      "metadata": {
        "id": "0rHtFaAoYY_m"
      },
      "source": [
        "# In Summary:\n",
        "\n",
        "A simple seasonal ARIMA model (SARIMA) outperformed a RNN (LTSM) and Facebook's Prophet model. Import to consider is the data lacked complexity due to being monthly and had no exongenous variables (i.e. hoildays) or covariates (other lagged time series)\n",
        "\n",
        "Thus, with more naunced data using classical time series models can be  difficult to tune for optimal results and the two other models may be a better option. Just remember, as Data Scientest it is other better to try out various models on a data set for the best results. "
      ]
    }
  ]
}