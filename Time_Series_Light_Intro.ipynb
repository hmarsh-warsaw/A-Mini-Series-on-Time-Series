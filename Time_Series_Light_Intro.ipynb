{
  "nbformat": 4,
  "nbformat_minor": 0,
  "metadata": {
    "colab": {
      "name": "Time_Series Light_Intro.ipynb",
      "provenance": [],
      "collapsed_sections": []
    },
    "kernelspec": {
      "name": "python3",
      "display_name": "Python 3"
    },
    "language_info": {
      "name": "python"
    }
  },
  "cells": [
    {
      "cell_type": "code",
      "metadata": {
        "id": "hn3Tkio_h0te",
        "colab": {
          "base_uri": "https://localhost:8080/"
        },
        "outputId": "ce51fa66-7b1a-4fe2-9014-a600bb688312"
      },
      "source": [
        "!pip install pmdarima\n",
        "\n",
        "!pip install keras\n",
        "\n"
      ],
      "execution_count": 2,
      "outputs": [
        {
          "output_type": "stream",
          "name": "stdout",
          "text": [
            "Collecting pmdarima\n",
            "  Downloading pmdarima-1.8.2-cp37-cp37m-manylinux1_x86_64.whl (1.5 MB)\n",
            "\u001b[?25l\r\u001b[K     |▎                               | 10 kB 19.6 MB/s eta 0:00:01\r\u001b[K     |▌                               | 20 kB 24.7 MB/s eta 0:00:01\r\u001b[K     |▊                               | 30 kB 30.3 MB/s eta 0:00:01\r\u001b[K     |█                               | 40 kB 23.2 MB/s eta 0:00:01\r\u001b[K     |█▏                              | 51 kB 21.7 MB/s eta 0:00:01\r\u001b[K     |█▍                              | 61 kB 23.3 MB/s eta 0:00:01\r\u001b[K     |█▋                              | 71 kB 24.4 MB/s eta 0:00:01\r\u001b[K     |█▉                              | 81 kB 24.3 MB/s eta 0:00:01\r\u001b[K     |██                              | 92 kB 25.5 MB/s eta 0:00:01\r\u001b[K     |██▎                             | 102 kB 27.4 MB/s eta 0:00:01\r\u001b[K     |██▌                             | 112 kB 27.4 MB/s eta 0:00:01\r\u001b[K     |██▊                             | 122 kB 27.4 MB/s eta 0:00:01\r\u001b[K     |███                             | 133 kB 27.4 MB/s eta 0:00:01\r\u001b[K     |███▏                            | 143 kB 27.4 MB/s eta 0:00:01\r\u001b[K     |███▍                            | 153 kB 27.4 MB/s eta 0:00:01\r\u001b[K     |███▋                            | 163 kB 27.4 MB/s eta 0:00:01\r\u001b[K     |███▉                            | 174 kB 27.4 MB/s eta 0:00:01\r\u001b[K     |████                            | 184 kB 27.4 MB/s eta 0:00:01\r\u001b[K     |████▎                           | 194 kB 27.4 MB/s eta 0:00:01\r\u001b[K     |████▌                           | 204 kB 27.4 MB/s eta 0:00:01\r\u001b[K     |████▊                           | 215 kB 27.4 MB/s eta 0:00:01\r\u001b[K     |█████                           | 225 kB 27.4 MB/s eta 0:00:01\r\u001b[K     |█████▏                          | 235 kB 27.4 MB/s eta 0:00:01\r\u001b[K     |█████▍                          | 245 kB 27.4 MB/s eta 0:00:01\r\u001b[K     |█████▋                          | 256 kB 27.4 MB/s eta 0:00:01\r\u001b[K     |█████▉                          | 266 kB 27.4 MB/s eta 0:00:01\r\u001b[K     |██████                          | 276 kB 27.4 MB/s eta 0:00:01\r\u001b[K     |██████▎                         | 286 kB 27.4 MB/s eta 0:00:01\r\u001b[K     |██████▌                         | 296 kB 27.4 MB/s eta 0:00:01\r\u001b[K     |██████▊                         | 307 kB 27.4 MB/s eta 0:00:01\r\u001b[K     |███████                         | 317 kB 27.4 MB/s eta 0:00:01\r\u001b[K     |███████▏                        | 327 kB 27.4 MB/s eta 0:00:01\r\u001b[K     |███████▍                        | 337 kB 27.4 MB/s eta 0:00:01\r\u001b[K     |███████▋                        | 348 kB 27.4 MB/s eta 0:00:01\r\u001b[K     |███████▉                        | 358 kB 27.4 MB/s eta 0:00:01\r\u001b[K     |████████                        | 368 kB 27.4 MB/s eta 0:00:01\r\u001b[K     |████████▎                       | 378 kB 27.4 MB/s eta 0:00:01\r\u001b[K     |████████▌                       | 389 kB 27.4 MB/s eta 0:00:01\r\u001b[K     |████████▊                       | 399 kB 27.4 MB/s eta 0:00:01\r\u001b[K     |█████████                       | 409 kB 27.4 MB/s eta 0:00:01\r\u001b[K     |█████████▎                      | 419 kB 27.4 MB/s eta 0:00:01\r\u001b[K     |█████████▌                      | 430 kB 27.4 MB/s eta 0:00:01\r\u001b[K     |█████████▊                      | 440 kB 27.4 MB/s eta 0:00:01\r\u001b[K     |██████████                      | 450 kB 27.4 MB/s eta 0:00:01\r\u001b[K     |██████████▏                     | 460 kB 27.4 MB/s eta 0:00:01\r\u001b[K     |██████████▍                     | 471 kB 27.4 MB/s eta 0:00:01\r\u001b[K     |██████████▋                     | 481 kB 27.4 MB/s eta 0:00:01\r\u001b[K     |██████████▉                     | 491 kB 27.4 MB/s eta 0:00:01\r\u001b[K     |███████████                     | 501 kB 27.4 MB/s eta 0:00:01\r\u001b[K     |███████████▎                    | 512 kB 27.4 MB/s eta 0:00:01\r\u001b[K     |███████████▌                    | 522 kB 27.4 MB/s eta 0:00:01\r\u001b[K     |███████████▊                    | 532 kB 27.4 MB/s eta 0:00:01\r\u001b[K     |████████████                    | 542 kB 27.4 MB/s eta 0:00:01\r\u001b[K     |████████████▏                   | 552 kB 27.4 MB/s eta 0:00:01\r\u001b[K     |████████████▍                   | 563 kB 27.4 MB/s eta 0:00:01\r\u001b[K     |████████████▋                   | 573 kB 27.4 MB/s eta 0:00:01\r\u001b[K     |████████████▉                   | 583 kB 27.4 MB/s eta 0:00:01\r\u001b[K     |█████████████                   | 593 kB 27.4 MB/s eta 0:00:01\r\u001b[K     |█████████████▎                  | 604 kB 27.4 MB/s eta 0:00:01\r\u001b[K     |█████████████▌                  | 614 kB 27.4 MB/s eta 0:00:01\r\u001b[K     |█████████████▊                  | 624 kB 27.4 MB/s eta 0:00:01\r\u001b[K     |██████████████                  | 634 kB 27.4 MB/s eta 0:00:01\r\u001b[K     |██████████████▏                 | 645 kB 27.4 MB/s eta 0:00:01\r\u001b[K     |██████████████▍                 | 655 kB 27.4 MB/s eta 0:00:01\r\u001b[K     |██████████████▋                 | 665 kB 27.4 MB/s eta 0:00:01\r\u001b[K     |██████████████▉                 | 675 kB 27.4 MB/s eta 0:00:01\r\u001b[K     |███████████████                 | 686 kB 27.4 MB/s eta 0:00:01\r\u001b[K     |███████████████▎                | 696 kB 27.4 MB/s eta 0:00:01\r\u001b[K     |███████████████▌                | 706 kB 27.4 MB/s eta 0:00:01\r\u001b[K     |███████████████▊                | 716 kB 27.4 MB/s eta 0:00:01\r\u001b[K     |████████████████                | 727 kB 27.4 MB/s eta 0:00:01\r\u001b[K     |████████████████▏               | 737 kB 27.4 MB/s eta 0:00:01\r\u001b[K     |████████████████▍               | 747 kB 27.4 MB/s eta 0:00:01\r\u001b[K     |████████████████▋               | 757 kB 27.4 MB/s eta 0:00:01\r\u001b[K     |████████████████▉               | 768 kB 27.4 MB/s eta 0:00:01\r\u001b[K     |█████████████████               | 778 kB 27.4 MB/s eta 0:00:01\r\u001b[K     |█████████████████▎              | 788 kB 27.4 MB/s eta 0:00:01\r\u001b[K     |█████████████████▌              | 798 kB 27.4 MB/s eta 0:00:01\r\u001b[K     |█████████████████▊              | 808 kB 27.4 MB/s eta 0:00:01\r\u001b[K     |██████████████████              | 819 kB 27.4 MB/s eta 0:00:01\r\u001b[K     |██████████████████▎             | 829 kB 27.4 MB/s eta 0:00:01\r\u001b[K     |██████████████████▌             | 839 kB 27.4 MB/s eta 0:00:01\r\u001b[K     |██████████████████▊             | 849 kB 27.4 MB/s eta 0:00:01\r\u001b[K     |███████████████████             | 860 kB 27.4 MB/s eta 0:00:01\r\u001b[K     |███████████████████▏            | 870 kB 27.4 MB/s eta 0:00:01\r\u001b[K     |███████████████████▍            | 880 kB 27.4 MB/s eta 0:00:01\r\u001b[K     |███████████████████▋            | 890 kB 27.4 MB/s eta 0:00:01\r\u001b[K     |███████████████████▉            | 901 kB 27.4 MB/s eta 0:00:01\r\u001b[K     |████████████████████            | 911 kB 27.4 MB/s eta 0:00:01\r\u001b[K     |████████████████████▎           | 921 kB 27.4 MB/s eta 0:00:01\r\u001b[K     |████████████████████▌           | 931 kB 27.4 MB/s eta 0:00:01\r\u001b[K     |████████████████████▊           | 942 kB 27.4 MB/s eta 0:00:01\r\u001b[K     |█████████████████████           | 952 kB 27.4 MB/s eta 0:00:01\r\u001b[K     |█████████████████████▏          | 962 kB 27.4 MB/s eta 0:00:01\r\u001b[K     |█████████████████████▍          | 972 kB 27.4 MB/s eta 0:00:01\r\u001b[K     |█████████████████████▋          | 983 kB 27.4 MB/s eta 0:00:01\r\u001b[K     |█████████████████████▉          | 993 kB 27.4 MB/s eta 0:00:01\r\u001b[K     |██████████████████████          | 1.0 MB 27.4 MB/s eta 0:00:01\r\u001b[K     |██████████████████████▎         | 1.0 MB 27.4 MB/s eta 0:00:01\r\u001b[K     |██████████████████████▌         | 1.0 MB 27.4 MB/s eta 0:00:01\r\u001b[K     |██████████████████████▊         | 1.0 MB 27.4 MB/s eta 0:00:01\r\u001b[K     |███████████████████████         | 1.0 MB 27.4 MB/s eta 0:00:01\r\u001b[K     |███████████████████████▏        | 1.1 MB 27.4 MB/s eta 0:00:01\r\u001b[K     |███████████████████████▍        | 1.1 MB 27.4 MB/s eta 0:00:01\r\u001b[K     |███████████████████████▋        | 1.1 MB 27.4 MB/s eta 0:00:01\r\u001b[K     |███████████████████████▉        | 1.1 MB 27.4 MB/s eta 0:00:01\r\u001b[K     |████████████████████████        | 1.1 MB 27.4 MB/s eta 0:00:01\r\u001b[K     |████████████████████████▎       | 1.1 MB 27.4 MB/s eta 0:00:01\r\u001b[K     |████████████████████████▌       | 1.1 MB 27.4 MB/s eta 0:00:01\r\u001b[K     |████████████████████████▊       | 1.1 MB 27.4 MB/s eta 0:00:01\r\u001b[K     |█████████████████████████       | 1.1 MB 27.4 MB/s eta 0:00:01\r\u001b[K     |█████████████████████████▏      | 1.1 MB 27.4 MB/s eta 0:00:01\r\u001b[K     |█████████████████████████▍      | 1.2 MB 27.4 MB/s eta 0:00:01\r\u001b[K     |█████████████████████████▋      | 1.2 MB 27.4 MB/s eta 0:00:01\r\u001b[K     |█████████████████████████▉      | 1.2 MB 27.4 MB/s eta 0:00:01\r\u001b[K     |██████████████████████████      | 1.2 MB 27.4 MB/s eta 0:00:01\r\u001b[K     |██████████████████████████▎     | 1.2 MB 27.4 MB/s eta 0:00:01\r\u001b[K     |██████████████████████████▌     | 1.2 MB 27.4 MB/s eta 0:00:01\r\u001b[K     |██████████████████████████▊     | 1.2 MB 27.4 MB/s eta 0:00:01\r\u001b[K     |███████████████████████████     | 1.2 MB 27.4 MB/s eta 0:00:01\r\u001b[K     |███████████████████████████▎    | 1.2 MB 27.4 MB/s eta 0:00:01\r\u001b[K     |███████████████████████████▌    | 1.2 MB 27.4 MB/s eta 0:00:01\r\u001b[K     |███████████████████████████▊    | 1.3 MB 27.4 MB/s eta 0:00:01\r\u001b[K     |████████████████████████████    | 1.3 MB 27.4 MB/s eta 0:00:01\r\u001b[K     |████████████████████████████▏   | 1.3 MB 27.4 MB/s eta 0:00:01\r\u001b[K     |████████████████████████████▍   | 1.3 MB 27.4 MB/s eta 0:00:01\r\u001b[K     |████████████████████████████▋   | 1.3 MB 27.4 MB/s eta 0:00:01\r\u001b[K     |████████████████████████████▉   | 1.3 MB 27.4 MB/s eta 0:00:01\r\u001b[K     |█████████████████████████████   | 1.3 MB 27.4 MB/s eta 0:00:01\r\u001b[K     |█████████████████████████████▎  | 1.3 MB 27.4 MB/s eta 0:00:01\r\u001b[K     |█████████████████████████████▌  | 1.3 MB 27.4 MB/s eta 0:00:01\r\u001b[K     |█████████████████████████████▊  | 1.4 MB 27.4 MB/s eta 0:00:01\r\u001b[K     |██████████████████████████████  | 1.4 MB 27.4 MB/s eta 0:00:01\r\u001b[K     |██████████████████████████████▏ | 1.4 MB 27.4 MB/s eta 0:00:01\r\u001b[K     |██████████████████████████████▍ | 1.4 MB 27.4 MB/s eta 0:00:01\r\u001b[K     |██████████████████████████████▋ | 1.4 MB 27.4 MB/s eta 0:00:01\r\u001b[K     |██████████████████████████████▉ | 1.4 MB 27.4 MB/s eta 0:00:01\r\u001b[K     |███████████████████████████████ | 1.4 MB 27.4 MB/s eta 0:00:01\r\u001b[K     |███████████████████████████████▎| 1.4 MB 27.4 MB/s eta 0:00:01\r\u001b[K     |███████████████████████████████▌| 1.4 MB 27.4 MB/s eta 0:00:01\r\u001b[K     |███████████████████████████████▊| 1.4 MB 27.4 MB/s eta 0:00:01\r\u001b[K     |████████████████████████████████| 1.5 MB 27.4 MB/s eta 0:00:01\r\u001b[K     |████████████████████████████████| 1.5 MB 27.4 MB/s \n",
            "\u001b[?25hRequirement already satisfied: setuptools!=50.0.0,>=38.6.0 in /usr/local/lib/python3.7/dist-packages (from pmdarima) (57.4.0)\n",
            "Requirement already satisfied: numpy~=1.19.0 in /usr/local/lib/python3.7/dist-packages (from pmdarima) (1.19.5)\n",
            "Requirement already satisfied: scikit-learn>=0.22 in /usr/local/lib/python3.7/dist-packages (from pmdarima) (0.22.2.post1)\n",
            "Requirement already satisfied: pandas>=0.19 in /usr/local/lib/python3.7/dist-packages (from pmdarima) (1.1.5)\n",
            "Requirement already satisfied: joblib>=0.11 in /usr/local/lib/python3.7/dist-packages (from pmdarima) (1.0.1)\n",
            "Collecting statsmodels!=0.12.0,>=0.11\n",
            "  Downloading statsmodels-0.12.2-cp37-cp37m-manylinux1_x86_64.whl (9.5 MB)\n",
            "\u001b[K     |████████████████████████████████| 9.5 MB 57.8 MB/s \n",
            "\u001b[?25hRequirement already satisfied: urllib3 in /usr/local/lib/python3.7/dist-packages (from pmdarima) (1.24.3)\n",
            "Requirement already satisfied: Cython!=0.29.18,>=0.29 in /usr/local/lib/python3.7/dist-packages (from pmdarima) (0.29.24)\n",
            "Requirement already satisfied: scipy>=1.3.2 in /usr/local/lib/python3.7/dist-packages (from pmdarima) (1.4.1)\n",
            "Requirement already satisfied: pytz>=2017.2 in /usr/local/lib/python3.7/dist-packages (from pandas>=0.19->pmdarima) (2018.9)\n",
            "Requirement already satisfied: python-dateutil>=2.7.3 in /usr/local/lib/python3.7/dist-packages (from pandas>=0.19->pmdarima) (2.8.2)\n",
            "Requirement already satisfied: six>=1.5 in /usr/local/lib/python3.7/dist-packages (from python-dateutil>=2.7.3->pandas>=0.19->pmdarima) (1.15.0)\n",
            "Requirement already satisfied: patsy>=0.5 in /usr/local/lib/python3.7/dist-packages (from statsmodels!=0.12.0,>=0.11->pmdarima) (0.5.1)\n",
            "Installing collected packages: statsmodels, pmdarima\n",
            "  Attempting uninstall: statsmodels\n",
            "    Found existing installation: statsmodels 0.10.2\n",
            "    Uninstalling statsmodels-0.10.2:\n",
            "      Successfully uninstalled statsmodels-0.10.2\n",
            "Successfully installed pmdarima-1.8.2 statsmodels-0.12.2\n",
            "Requirement already satisfied: keras in /usr/local/lib/python3.7/dist-packages (2.6.0)\n"
          ]
        }
      ]
    },
    {
      "cell_type": "code",
      "metadata": {
        "id": "tACrnbC6HijP"
      },
      "source": [
        "import pandas as pd\n",
        "import numpy as np\n",
        "import matplotlib.pyplot as plt\n",
        "\n",
        "from sklearn.preprocessing import MinMaxScaler\n",
        "\n",
        "\n",
        "from tensorflow.python.keras.preprocessing.sequence import TimeseriesGenerator\n",
        "from tensorflow.python.keras import Sequential\n",
        "from tensorflow.python.keras.layers import LSTM, Dense\n",
        "\n",
        "from fbprophet import Prophet\n",
        "\n",
        "\n",
        "# Load specific forecasting tools\n",
        "from statsmodels.tsa.statespace.sarimax import SARIMAX\n",
        "\n",
        "\n",
        "from statsmodels.graphics.tsaplots import plot_acf, plot_pacf\n",
        "from statsmodels.tsa.stattools import acf, pacf  # for determining (p,q) orders\n",
        "from statsmodels.tsa.seasonal import seasonal_decompose      # for ETS Plots\n",
        "from pmdarima import auto_arima                              # for determining ARIMA orders\n",
        "\n",
        "\n",
        "from statsmodels.tsa.stattools import adfuller\n",
        "\n",
        "# Load specific evaluation tools\n",
        "from sklearn.metrics import mean_squared_error\n",
        "from statsmodels.tools.eval_measures import rmse\n",
        "\n",
        "# Ignore harmless warnings\n",
        "import warnings\n",
        "warnings.filterwarnings(\"ignore\")"
      ],
      "execution_count": 3,
      "outputs": []
    },
    {
      "cell_type": "markdown",
      "metadata": {
        "id": "N-jln1K_8jNc"
      },
      "source": [
        "# The purpose of this notebook is to provide a light introduction to time series forecasting using one only variable (sales) and 3 basic models\n",
        "\n",
        "\n",
        "\n",
        "Models:\n",
        "\n",
        "*   SARIMA\n",
        "*   RNN (LTSM)\n",
        "*   Prophet\n",
        "\n",
        "\n",
        "\n",
        "\n"
      ]
    },
    {
      "cell_type": "code",
      "metadata": {
        "colab": {
          "base_uri": "https://localhost:8080/",
          "height": 235
        },
        "id": "QOu6Fr_Z7Wjd",
        "outputId": "02431bed-b2a5-479c-b086-7f85fd0fd8fe"
      },
      "source": [
        "# Load data\n",
        "\n",
        "\n",
        "df = pd.read_csv('/content/train.csv',index_col='date',parse_dates=True)\n",
        "\n",
        "\n",
        "df.head()"
      ],
      "execution_count": 4,
      "outputs": [
        {
          "output_type": "execute_result",
          "data": {
            "text/html": [
              "<div>\n",
              "<style scoped>\n",
              "    .dataframe tbody tr th:only-of-type {\n",
              "        vertical-align: middle;\n",
              "    }\n",
              "\n",
              "    .dataframe tbody tr th {\n",
              "        vertical-align: top;\n",
              "    }\n",
              "\n",
              "    .dataframe thead th {\n",
              "        text-align: right;\n",
              "    }\n",
              "</style>\n",
              "<table border=\"1\" class=\"dataframe\">\n",
              "  <thead>\n",
              "    <tr style=\"text-align: right;\">\n",
              "      <th></th>\n",
              "      <th>store</th>\n",
              "      <th>item</th>\n",
              "      <th>sales</th>\n",
              "    </tr>\n",
              "    <tr>\n",
              "      <th>date</th>\n",
              "      <th></th>\n",
              "      <th></th>\n",
              "      <th></th>\n",
              "    </tr>\n",
              "  </thead>\n",
              "  <tbody>\n",
              "    <tr>\n",
              "      <th>2013-01-01</th>\n",
              "      <td>1</td>\n",
              "      <td>1</td>\n",
              "      <td>13</td>\n",
              "    </tr>\n",
              "    <tr>\n",
              "      <th>2013-01-02</th>\n",
              "      <td>1</td>\n",
              "      <td>1</td>\n",
              "      <td>11</td>\n",
              "    </tr>\n",
              "    <tr>\n",
              "      <th>2013-01-03</th>\n",
              "      <td>1</td>\n",
              "      <td>1</td>\n",
              "      <td>14</td>\n",
              "    </tr>\n",
              "    <tr>\n",
              "      <th>2013-01-04</th>\n",
              "      <td>1</td>\n",
              "      <td>1</td>\n",
              "      <td>13</td>\n",
              "    </tr>\n",
              "    <tr>\n",
              "      <th>2013-01-05</th>\n",
              "      <td>1</td>\n",
              "      <td>1</td>\n",
              "      <td>10</td>\n",
              "    </tr>\n",
              "  </tbody>\n",
              "</table>\n",
              "</div>"
            ],
            "text/plain": [
              "            store  item  sales\n",
              "date                          \n",
              "2013-01-01      1     1     13\n",
              "2013-01-02      1     1     11\n",
              "2013-01-03      1     1     14\n",
              "2013-01-04      1     1     13\n",
              "2013-01-05      1     1     10"
            ]
          },
          "metadata": {},
          "execution_count": 4
        }
      ]
    },
    {
      "cell_type": "code",
      "metadata": {
        "colab": {
          "base_uri": "https://localhost:8080/",
          "height": 235
        },
        "id": "SybNun2pmdJn",
        "outputId": "bb5b9598-3855-4533-de73-ddc1f10e1871"
      },
      "source": [
        "# Resample the data so is aggregated monthly (ie total monthly sales for all stores)\n",
        "\n",
        "df=df.resample(\"M\").sum()\n",
        "\n",
        "\n",
        "df.head()"
      ],
      "execution_count": 5,
      "outputs": [
        {
          "output_type": "execute_result",
          "data": {
            "text/html": [
              "<div>\n",
              "<style scoped>\n",
              "    .dataframe tbody tr th:only-of-type {\n",
              "        vertical-align: middle;\n",
              "    }\n",
              "\n",
              "    .dataframe tbody tr th {\n",
              "        vertical-align: top;\n",
              "    }\n",
              "\n",
              "    .dataframe thead th {\n",
              "        text-align: right;\n",
              "    }\n",
              "</style>\n",
              "<table border=\"1\" class=\"dataframe\">\n",
              "  <thead>\n",
              "    <tr style=\"text-align: right;\">\n",
              "      <th></th>\n",
              "      <th>store</th>\n",
              "      <th>item</th>\n",
              "      <th>sales</th>\n",
              "    </tr>\n",
              "    <tr>\n",
              "      <th>date</th>\n",
              "      <th></th>\n",
              "      <th></th>\n",
              "      <th></th>\n",
              "    </tr>\n",
              "  </thead>\n",
              "  <tbody>\n",
              "    <tr>\n",
              "      <th>2013-01-31</th>\n",
              "      <td>85250</td>\n",
              "      <td>395250</td>\n",
              "      <td>454904</td>\n",
              "    </tr>\n",
              "    <tr>\n",
              "      <th>2013-02-28</th>\n",
              "      <td>77000</td>\n",
              "      <td>357000</td>\n",
              "      <td>459417</td>\n",
              "    </tr>\n",
              "    <tr>\n",
              "      <th>2013-03-31</th>\n",
              "      <td>85250</td>\n",
              "      <td>395250</td>\n",
              "      <td>617382</td>\n",
              "    </tr>\n",
              "    <tr>\n",
              "      <th>2013-04-30</th>\n",
              "      <td>82500</td>\n",
              "      <td>382500</td>\n",
              "      <td>682274</td>\n",
              "    </tr>\n",
              "    <tr>\n",
              "      <th>2013-05-31</th>\n",
              "      <td>85250</td>\n",
              "      <td>395250</td>\n",
              "      <td>763242</td>\n",
              "    </tr>\n",
              "  </tbody>\n",
              "</table>\n",
              "</div>"
            ],
            "text/plain": [
              "            store    item   sales\n",
              "date                             \n",
              "2013-01-31  85250  395250  454904\n",
              "2013-02-28  77000  357000  459417\n",
              "2013-03-31  85250  395250  617382\n",
              "2013-04-30  82500  382500  682274\n",
              "2013-05-31  85250  395250  763242"
            ]
          },
          "metadata": {},
          "execution_count": 5
        }
      ]
    },
    {
      "cell_type": "code",
      "metadata": {
        "colab": {
          "base_uri": "https://localhost:8080/"
        },
        "id": "tEOrqd6WSvfS",
        "outputId": "b3e00252-d675-44a7-9fb6-45844413da43"
      },
      "source": [
        "# Checking our index is in 'datetime' and the freq is corret 'M' = month end\n",
        "\n",
        "df.index"
      ],
      "execution_count": 6,
      "outputs": [
        {
          "output_type": "execute_result",
          "data": {
            "text/plain": [
              "DatetimeIndex(['2013-01-31', '2013-02-28', '2013-03-31', '2013-04-30',\n",
              "               '2013-05-31', '2013-06-30', '2013-07-31', '2013-08-31',\n",
              "               '2013-09-30', '2013-10-31', '2013-11-30', '2013-12-31',\n",
              "               '2014-01-31', '2014-02-28', '2014-03-31', '2014-04-30',\n",
              "               '2014-05-31', '2014-06-30', '2014-07-31', '2014-08-31',\n",
              "               '2014-09-30', '2014-10-31', '2014-11-30', '2014-12-31',\n",
              "               '2015-01-31', '2015-02-28', '2015-03-31', '2015-04-30',\n",
              "               '2015-05-31', '2015-06-30', '2015-07-31', '2015-08-31',\n",
              "               '2015-09-30', '2015-10-31', '2015-11-30', '2015-12-31',\n",
              "               '2016-01-31', '2016-02-29', '2016-03-31', '2016-04-30',\n",
              "               '2016-05-31', '2016-06-30', '2016-07-31', '2016-08-31',\n",
              "               '2016-09-30', '2016-10-31', '2016-11-30', '2016-12-31',\n",
              "               '2017-01-31', '2017-02-28', '2017-03-31', '2017-04-30',\n",
              "               '2017-05-31', '2017-06-30', '2017-07-31', '2017-08-31',\n",
              "               '2017-09-30', '2017-10-31', '2017-11-30', '2017-12-31'],\n",
              "              dtype='datetime64[ns]', name='date', freq='M')"
            ]
          },
          "metadata": {},
          "execution_count": 6
        }
      ]
    },
    {
      "cell_type": "code",
      "metadata": {
        "colab": {
          "base_uri": "https://localhost:8080/"
        },
        "id": "qgC5258OrdTu",
        "outputId": "a767961f-11b3-4e3d-c2f5-eb6a8eab51b6"
      },
      "source": [
        "# Checking for  nan values\n",
        "\n",
        "print(df[\"sales\"].isnull().values.any())"
      ],
      "execution_count": 7,
      "outputs": [
        {
          "output_type": "stream",
          "name": "stdout",
          "text": [
            "False\n"
          ]
        }
      ]
    },
    {
      "cell_type": "code",
      "metadata": {
        "colab": {
          "base_uri": "https://localhost:8080/",
          "height": 350
        },
        "id": "1A4J6nljuAcy",
        "outputId": "aa10e3cb-105c-4d8d-a253-9be0798dea31"
      },
      "source": [
        "# From the plotting the data, it looks like there is a trend and deff seasonality (due to winter holidays)\n",
        "\n",
        "title='Total Montly Sales'\n",
        "ylabel='Dollar Amount'\n",
        "xlabel = \"Date\"\n",
        "\n",
        "ax = df[\"sales\"].plot(figsize=(12,5),title=title)\n",
        "ax.autoscale(axis='x',tight=True)\n",
        "ax.set(xlabel=xlabel, ylabel=ylabel);"
      ],
      "execution_count": 8,
      "outputs": [
        {
          "output_type": "display_data",
          "data": {
            "image/png": "[encoded data removed]",
            "text/plain": [
              "<Figure size 864x360 with 1 Axes>"
            ]
          },
          "metadata": {
            "needs_background": "light"
          }
        }
      ]
    },
    {
      "cell_type": "code",
      "metadata": {
        "colab": {
          "base_uri": "https://localhost:8080/",
          "height": 297
        },
        "id": "G1yVRuf1rBja",
        "outputId": "2aa337af-49b6-4d63-949b-336874b3b996"
      },
      "source": [
        "#Run an ETS to have a deeper look at the seasonality and trend in the data (additive becuase the trend does not appear exponential)\n",
        "\n",
        "result = seasonal_decompose(df[\"sales\"], model='add')\n",
        "result.plot();"
      ],
      "execution_count": 9,
      "outputs": [
        {
          "output_type": "display_data",
          "data": {
            "image/png": "[encoded data removed]",
            "text/plain": [
              "<Figure size 432x288 with 4 Axes>"
            ]
          },
          "metadata": {
            "needs_background": "light"
          }
        }
      ]
    },
    {
      "cell_type": "code",
      "metadata": {
        "colab": {
          "base_uri": "https://localhost:8080/",
          "height": 345
        },
        "id": "P2ntp5gstJgQ",
        "outputId": "815d21ea-ba3a-4409-f7d8-343d6686a9de"
      },
      "source": [
        "# Stationarity - it is quite common for time series to be non-stationary. So before moving any furhter, we need to check for stationarity (i.e. variance and  mean are constanct over time - seasonality too!)\n",
        "\n",
        "# First plotting - the mean is not constant over time\n",
        "\n",
        "df['3-month-SMA'] = df['sales'].rolling(window=3).mean()\n",
        "df['3-month-Std'] = df['sales'].rolling(window=3).std()\n",
        "\n",
        "ylabel='Dollar Amount'\n",
        "\n",
        "\n",
        "ax = df[['sales','3-month-SMA','3-month-Std']].plot(figsize = (12,5));\n",
        "\n",
        "ax.set(xlabel=xlabel, ylabel=ylabel);"
      ],
      "execution_count": 10,
      "outputs": [
        {
          "output_type": "display_data",
          "data": {
            "image/png": "[encoded data removed]",
            "text/plain": [
              "<Figure size 864x360 with 1 Axes>"
            ]
          },
          "metadata": {
            "needs_background": "light"
          }
        }
      ]
    },
    {
      "cell_type": "code",
      "metadata": {
        "colab": {
          "base_uri": "https://localhost:8080/"
        },
        "id": "QZ2RgkEz7CGv",
        "outputId": "004a1106-95cf-4ea4-9f4c-d378c15e081f"
      },
      "source": [
        "#Augmented Dickey-Fuller Test is a statistical test for wether or not the data has a trend (at some level of confidence) \n",
        "\n",
        "# Due to the low p-value (<.05), the null-hypothesis of unit root (trend) is rejected\n",
        "\n",
        "print('Augmented Dickey-Fuller Test')\n",
        "dftest = adfuller(df['sales'],autolag='AIC')\n",
        "\n",
        "dfout = pd.Series(dftest[0:4],index=['ADF test statistic','p-value','# lags used','# observations'])\n",
        "\n",
        "for key,val in dftest[4].items():\n",
        "    dfout[f'critical value ({key})']=val\n",
        "print(dfout)"
      ],
      "execution_count": 11,
      "outputs": [
        {
          "output_type": "stream",
          "name": "stdout",
          "text": [
            "Augmented Dickey-Fuller Test\n",
            "ADF test statistic      -5.247519\n",
            "p-value                  0.000007\n",
            "# lags used             11.000000\n",
            "# observations          48.000000\n",
            "critical value (1%)     -3.574589\n",
            "critical value (5%)     -2.923954\n",
            "critical value (10%)    -2.600039\n",
            "dtype: float64\n"
          ]
        }
      ]
    },
    {
      "cell_type": "code",
      "metadata": {
        "id": "GI3QiCgYJpGt"
      },
      "source": [
        "# To deal with trend, lets manually differnce the data to see if the trend is still present\n",
        "\n",
        "first_dif = df[\"sales\"].diff()[1:]"
      ],
      "execution_count": 12,
      "outputs": []
    },
    {
      "cell_type": "code",
      "metadata": {
        "colab": {
          "base_uri": "https://localhost:8080/"
        },
        "id": "omx1HvVAPwuM",
        "outputId": "f1a271ad-6bc2-4059-aa54-617b929a2f14"
      },
      "source": [
        "len(first_dif)"
      ],
      "execution_count": 13,
      "outputs": [
        {
          "output_type": "execute_result",
          "data": {
            "text/plain": [
              "59"
            ]
          },
          "metadata": {},
          "execution_count": 13
        }
      ]
    },
    {
      "cell_type": "code",
      "metadata": {
        "colab": {
          "base_uri": "https://localhost:8080/",
          "height": 336
        },
        "id": "U2ifc4YDKfQ-",
        "outputId": "e8231d3c-ffdb-4ab5-a20c-fed24ca5030e"
      },
      "source": [
        "# First differencing removes the trend but seasonality still exist\n",
        "\n",
        "title='1st Diff Total Montly Sales'\n",
        "ylabel='Dollar Amount'\n",
        "xlabel='' # we don't really need a label here\n",
        "\n",
        "ax = first_dif.plot(figsize=(12,5),title=title)\n",
        "ax.autoscale(axis='x',tight=True)\n",
        "ax.set(xlabel=xlabel, ylabel=ylabel);"
      ],
      "execution_count": 14,
      "outputs": [
        {
          "output_type": "display_data",
          "data": {
            "image/png": "[encoded data removed]",
            "text/plain": [
              "<Figure size 864x360 with 1 Axes>"
            ]
          },
          "metadata": {
            "needs_background": "light"
          }
        }
      ]
    },
    {
      "cell_type": "code",
      "metadata": {
        "colab": {
          "base_uri": "https://localhost:8080/",
          "height": 281
        },
        "id": "1SCVNDUJMMaP",
        "outputId": "6c8738c0-bc0c-4ddc-8b8f-6b0a84686012"
      },
      "source": [
        "#Next, creating an ACF will identify the  number of lags for the seasonal MA part of the model\n",
        "#Based on the chart it appears that seasonality is 12 months\n",
        "\n",
        "# Outside blue shading is signficant \n",
        "\n",
        "plot_acf(first_dif, lags = 15)\n",
        "plt.show()"
      ],
      "execution_count": 15,
      "outputs": [
        {
          "output_type": "display_data",
          "data": {
            "image/png": "[encoded data removed]",
            "text/plain": [
              "<Figure size 432x288 with 1 Axes>"
            ]
          },
          "metadata": {
            "needs_background": "light"
          }
        }
      ]
    },
    {
      "cell_type": "code",
      "metadata": {
        "colab": {
          "base_uri": "https://localhost:8080/",
          "height": 281
        },
        "id": "d399-qL_OTOr",
        "outputId": "ac97f892-c642-45e4-e75f-ea83ef616015"
      },
      "source": [
        "#The pacf chart shows the seasonal AR should contain 12 months\n",
        "\n",
        "#lag 15 seems to be quite correlated, due to 12 month seasonality this seems odd and that it is about 1 but will be noted for when modeling (if intial 12 produces bad prediction results)\n",
        "\n",
        "plot_pacf(first_dif, lags = 15)\n",
        "plt.show()"
      ],
      "execution_count": 16,
      "outputs": [
        {
          "output_type": "display_data",
          "data": {
            "image/png": "[encoded data removed]",
            "text/plain": [
              "<Figure size 432x288 with 1 Axes>"
            ]
          },
          "metadata": {
            "needs_background": "light"
          }
        }
      ]
    },
    {
      "cell_type": "code",
      "metadata": {
        "colab": {
          "base_uri": "https://localhost:8080/"
        },
        "id": "m4k5RWs28dTq",
        "outputId": "ed8c21db-0fc3-424b-adf3-634287914736"
      },
      "source": [
        "# Initializing and finding the right parameters for the model\n",
        "\n",
        "#Auto_arima performs a gird search on all model parameters and dispalys the best model\n",
        "\n",
        "# SARIMA - due to the seasonality of the data we will use this model over an ARIMA (which is an extenstion of the ARIMA model but deals with seasonlity )\n",
        "# The below auto_arima function essentially peforms a grid search for the beast model parameters\n",
        "\n",
        "\n",
        "print(auto_arima (df['sales'],seasonal=True,m=12).summary())"
      ],
      "execution_count": 17,
      "outputs": [
        {
          "output_type": "stream",
          "name": "stdout",
          "text": [
            "                                        SARIMAX Results                                        \n",
            "===============================================================================================\n",
            "Dep. Variable:                                       y   No. Observations:                   60\n",
            "Model:             SARIMAX(0, 1, 0)x(2, 1, [1, 2], 12)   Log Likelihood                -512.073\n",
            "Date:                                 Thu, 02 Sep 2021   AIC                           1034.146\n",
            "Time:                                         18:09:55   BIC                           1043.397\n",
            "Sample:                                              0   HQIC                          1037.627\n",
            "                                                  - 60                                         \n",
            "Covariance Type:                                   opg                                         \n",
            "==============================================================================\n",
            "                 coef    std err          z      P>|z|      [0.025      0.975]\n",
            "------------------------------------------------------------------------------\n",
            "ar.S.L12      -0.0893      0.956     -0.093      0.926      -1.964       1.785\n",
            "ar.S.L24       0.6035      0.498      1.212      0.226      -0.373       1.580\n",
            "ma.S.L12       0.2319      0.981      0.236      0.813      -1.691       2.155\n",
            "ma.S.L24      -0.5630      0.471     -1.196      0.232      -1.486       0.360\n",
            "sigma2      2.769e+08   4.26e-09    6.5e+16      0.000    2.77e+08    2.77e+08\n",
            "===================================================================================\n",
            "Ljung-Box (L1) (Q):                  16.13   Jarque-Bera (JB):                 0.17\n",
            "Prob(Q):                              0.00   Prob(JB):                         0.92\n",
            "Heteroskedasticity (H):               2.15   Skew:                            -0.13\n",
            "Prob(H) (two-sided):                  0.14   Kurtosis:                         2.85\n",
            "===================================================================================\n",
            "\n",
            "Warnings:\n",
            "[1] Covariance matrix calculated using the outer product of gradients (complex-step).\n",
            "[2] Covariance matrix is singular or near-singular, with condition number  1e+33. Standard errors may be unstable.\n"
          ]
        }
      ]
    },
    {
      "cell_type": "code",
      "metadata": {
        "colab": {
          "base_uri": "https://localhost:8080/"
        },
        "id": "lzCk96jw_5gW",
        "outputId": "6801986a-cc53-42b0-aab5-fc6fba8140bf"
      },
      "source": [
        "# Since none of the parameters were statically significant, lets try what we found out earliar\n",
        "\n",
        "# First difference creates stationarity, seasonality is 12 months with one lag (ACF and PACF)\n",
        "\n",
        "# Nice, our parameters are now statistically signficant\n",
        "\n",
        "model = SARIMAX(df['sales'],order=(0,1,0),seasonal_order=(1,1,1,12))\n",
        "results = model.fit()\n",
        "print(results.summary())"
      ],
      "execution_count": 18,
      "outputs": [
        {
          "output_type": "stream",
          "name": "stdout",
          "text": [
            "                                      SARIMAX Results                                       \n",
            "============================================================================================\n",
            "Dep. Variable:                                sales   No. Observations:                   60\n",
            "Model:             SARIMAX(0, 1, 0)x(1, 1, [1], 12)   Log Likelihood                -514.987\n",
            "Date:                              Thu, 02 Sep 2021   AIC                           1035.974\n",
            "Time:                                      18:09:55   BIC                           1041.524\n",
            "Sample:                                  01-31-2013   HQIC                          1038.063\n",
            "                                       - 12-31-2017                                         \n",
            "Covariance Type:                                opg                                         \n",
            "==============================================================================\n",
            "                 coef    std err          z      P>|z|      [0.025      0.975]\n",
            "------------------------------------------------------------------------------\n",
            "ar.S.L12      -0.5606      0.102     -5.480      0.000      -0.761      -0.360\n",
            "ma.S.L12       0.6418      0.090      7.122      0.000       0.465       0.818\n",
            "sigma2      1.296e+08   2.47e-11   5.24e+18      0.000     1.3e+08     1.3e+08\n",
            "===================================================================================\n",
            "Ljung-Box (L1) (Q):                   6.58   Jarque-Bera (JB):                 0.55\n",
            "Prob(Q):                              0.01   Prob(JB):                         0.76\n",
            "Heteroskedasticity (H):               1.07   Skew:                            -0.25\n",
            "Prob(H) (two-sided):                  0.89   Kurtosis:                         2.81\n",
            "===================================================================================\n",
            "\n",
            "Warnings:\n",
            "[1] Covariance matrix calculated using the outer product of gradients (complex-step).\n",
            "[2] Covariance matrix is singular or near-singular, with condition number 5.75e+35. Standard errors may be unstable.\n"
          ]
        }
      ]
    },
    {
      "cell_type": "code",
      "metadata": {
        "colab": {
          "base_uri": "https://localhost:8080/"
        },
        "id": "ZLbUxtPBCo2X",
        "outputId": "5a9d4b99-d674-42d1-b2e4-3df01edc7c49"
      },
      "source": [
        "#split data into train/test\n",
        "\n",
        "len(df)*.80\n",
        "\n"
      ],
      "execution_count": 19,
      "outputs": [
        {
          "output_type": "execute_result",
          "data": {
            "text/plain": [
              "48.0"
            ]
          },
          "metadata": {},
          "execution_count": 19
        }
      ]
    },
    {
      "cell_type": "code",
      "metadata": {
        "id": "fhQp_M5EDlhr"
      },
      "source": [
        "df_1=df.loc[:,'sales']"
      ],
      "execution_count": 20,
      "outputs": []
    },
    {
      "cell_type": "code",
      "metadata": {
        "id": "PuMATHP6C5Gu"
      },
      "source": [
        "train = df_1.iloc[:48]\n",
        "test = df_1.iloc[48:]"
      ],
      "execution_count": 21,
      "outputs": []
    },
    {
      "cell_type": "code",
      "metadata": {
        "id": "A87O6NHpCZPS"
      },
      "source": [
        "\n",
        "# Predict Values\n",
        "\n",
        "start=len(train)\n",
        "end=len(train)+len(test)-1\n",
        "predictions = results.predict(start=start, end=end, dynamic=False, typ='levels').rename('SARIMA Predictions').astype(int)\n"
      ],
      "execution_count": 22,
      "outputs": []
    },
    {
      "cell_type": "code",
      "metadata": {
        "colab": {
          "base_uri": "https://localhost:8080/",
          "height": 452
        },
        "id": "i1HF8a7MDY-9",
        "outputId": "e0b59367-7a19-4e77-d6fd-367f1d1b07b9"
      },
      "source": [
        "# Compare predictions to expected values\n",
        "\n",
        "\n",
        "results_table=pd.concat([test, predictions,(test-predictions) ], axis= 1).rename(columns={0:\"Residuals_1\"})\n",
        "\n",
        "results_table\n"
      ],
      "execution_count": 23,
      "outputs": [
        {
          "output_type": "execute_result",
          "data": {
            "text/html": [
              "<div>\n",
              "<style scoped>\n",
              "    .dataframe tbody tr th:only-of-type {\n",
              "        vertical-align: middle;\n",
              "    }\n",
              "\n",
              "    .dataframe tbody tr th {\n",
              "        vertical-align: top;\n",
              "    }\n",
              "\n",
              "    .dataframe thead th {\n",
              "        text-align: right;\n",
              "    }\n",
              "</style>\n",
              "<table border=\"1\" class=\"dataframe\">\n",
              "  <thead>\n",
              "    <tr style=\"text-align: right;\">\n",
              "      <th></th>\n",
              "      <th>sales</th>\n",
              "      <th>SARIMA Predictions</th>\n",
              "      <th>Residuals_1</th>\n",
              "    </tr>\n",
              "    <tr>\n",
              "      <th>date</th>\n",
              "      <th></th>\n",
              "      <th></th>\n",
              "      <th></th>\n",
              "    </tr>\n",
              "  </thead>\n",
              "  <tbody>\n",
              "    <tr>\n",
              "      <th>2017-01-31</th>\n",
              "      <td>617306</td>\n",
              "      <td>639629</td>\n",
              "      <td>-22323</td>\n",
              "    </tr>\n",
              "    <tr>\n",
              "      <th>2017-02-28</th>\n",
              "      <td>621369</td>\n",
              "      <td>631020</td>\n",
              "      <td>-9651</td>\n",
              "    </tr>\n",
              "    <tr>\n",
              "      <th>2017-03-31</th>\n",
              "      <td>822667</td>\n",
              "      <td>794229</td>\n",
              "      <td>28438</td>\n",
              "    </tr>\n",
              "    <tr>\n",
              "      <th>2017-04-30</th>\n",
              "      <td>938862</td>\n",
              "      <td>934063</td>\n",
              "      <td>4799</td>\n",
              "    </tr>\n",
              "    <tr>\n",
              "      <th>2017-05-31</th>\n",
              "      <td>1020686</td>\n",
              "      <td>1022777</td>\n",
              "      <td>-2091</td>\n",
              "    </tr>\n",
              "    <tr>\n",
              "      <th>2017-06-30</th>\n",
              "      <td>1064624</td>\n",
              "      <td>1056328</td>\n",
              "      <td>8296</td>\n",
              "    </tr>\n",
              "    <tr>\n",
              "      <th>2017-07-31</th>\n",
              "      <td>1171393</td>\n",
              "      <td>1180561</td>\n",
              "      <td>-9168</td>\n",
              "    </tr>\n",
              "    <tr>\n",
              "      <th>2017-08-31</th>\n",
              "      <td>1026403</td>\n",
              "      <td>1012897</td>\n",
              "      <td>13506</td>\n",
              "    </tr>\n",
              "    <tr>\n",
              "      <th>2017-09-30</th>\n",
              "      <td>935263</td>\n",
              "      <td>943307</td>\n",
              "      <td>-8044</td>\n",
              "    </tr>\n",
              "    <tr>\n",
              "      <th>2017-10-31</th>\n",
              "      <td>891160</td>\n",
              "      <td>902367</td>\n",
              "      <td>-11207</td>\n",
              "    </tr>\n",
              "    <tr>\n",
              "      <th>2017-11-30</th>\n",
              "      <td>928837</td>\n",
              "      <td>918837</td>\n",
              "      <td>10000</td>\n",
              "    </tr>\n",
              "    <tr>\n",
              "      <th>2017-12-31</th>\n",
              "      <td>695170</td>\n",
              "      <td>702475</td>\n",
              "      <td>-7305</td>\n",
              "    </tr>\n",
              "  </tbody>\n",
              "</table>\n",
              "</div>"
            ],
            "text/plain": [
              "              sales  SARIMA Predictions  Residuals_1\n",
              "date                                                \n",
              "2017-01-31   617306              639629       -22323\n",
              "2017-02-28   621369              631020        -9651\n",
              "2017-03-31   822667              794229        28438\n",
              "2017-04-30   938862              934063         4799\n",
              "2017-05-31  1020686             1022777        -2091\n",
              "2017-06-30  1064624             1056328         8296\n",
              "2017-07-31  1171393             1180561        -9168\n",
              "2017-08-31  1026403             1012897        13506\n",
              "2017-09-30   935263              943307        -8044\n",
              "2017-10-31   891160              902367       -11207\n",
              "2017-11-30   928837              918837        10000\n",
              "2017-12-31   695170              702475        -7305"
            ]
          },
          "metadata": {},
          "execution_count": 23
        }
      ]
    },
    {
      "cell_type": "code",
      "metadata": {
        "colab": {
          "base_uri": "https://localhost:8080/",
          "height": 347
        },
        "id": "ZxyCuRvQpgKx",
        "outputId": "83ae7d52-4b22-4222-c8ea-91aea420f34d"
      },
      "source": [
        "# Plotting the residuals - looks pretty random\n",
        "\n",
        "title='Residuals'\n",
        "ylabel='Dollar Amount'\n",
        "xlabel='' # we don't really need a label here\n",
        "\n",
        "ax = results_table[\"Residuals_1\"].plot(figsize=(12,5),title=title)\n",
        "ax.autoscale(axis='x',tight=True)\n",
        "ax.set(xlabel=xlabel, ylabel=ylabel);"
      ],
      "execution_count": 24,
      "outputs": [
        {
          "output_type": "display_data",
          "data": {
            "image/png": "[encoded data removed]",
            "text/plain": [
              "<Figure size 864x360 with 1 Axes>"
            ]
          },
          "metadata": {
            "needs_background": "light"
          }
        }
      ]
    },
    {
      "cell_type": "code",
      "metadata": {
        "colab": {
          "base_uri": "https://localhost:8080/",
          "height": 286
        },
        "id": "_UC-8Mt0mNhO",
        "outputId": "26e04f32-a80b-41d6-9467-acf647d7d94a"
      },
      "source": [
        "# Visually it looks like the model does a pretty good job at predicting sales 1 year in advance\n",
        "\n",
        "\n",
        "plt.figure(figsize=(10,4))\n",
        "\n",
        "plt.plot(results_table[\"SARIMA Predictions\"])\n",
        "plt.plot(df[\"sales\"])\n",
        "\n",
        "plt.legend(('Predictions', 'Sales'), fontsize=16)\n",
        "\n",
        "plt.title('Sales vs Predictions', fontsize=20)\n",
        "plt.ylabel('Dollar Amount', fontsize=16);"
      ],
      "execution_count": 25,
      "outputs": [
        {
          "output_type": "display_data",
          "data": {
            "image/png": "[encoded data removed]",
            "text/plain": [
              "<Figure size 720x288 with 1 Axes>"
            ]
          },
          "metadata": {
            "needs_background": "light"
          }
        }
      ]
    },
    {
      "cell_type": "code",
      "metadata": {
        "colab": {
          "base_uri": "https://localhost:8080/"
        },
        "id": "9DVxggOdqKEl",
        "outputId": "bc5ab3cb-237c-46b8-8720-213df2c8c62b"
      },
      "source": [
        "#Evaluation metrics \n",
        "\n",
        "print('Mean Absolute Percent Error:', round(np.mean(abs(results_table[\"Residuals_1\"]/results_table[\"sales\"])),4))\n",
        "print('Root Mean Squared Error:', np.sqrt(np.mean(results_table[\"Residuals_1\"]**2)))"
      ],
      "execution_count": 26,
      "outputs": [
        {
          "output_type": "stream",
          "name": "stdout",
          "text": [
            "Mean Absolute Percent Error: 0.0137\n",
            "Root Mean Squared Error: 13249.321812832535\n"
          ]
        }
      ]
    },
    {
      "cell_type": "code",
      "metadata": {
        "id": "1tV6V71Dgyk0"
      },
      "source": [
        ""
      ],
      "execution_count": 26,
      "outputs": []
    },
    {
      "cell_type": "markdown",
      "metadata": {
        "id": "6Wjwy075ttXa"
      },
      "source": [
        "# RNN for Time Series Forecasting"
      ]
    },
    {
      "cell_type": "code",
      "metadata": {
        "colab": {
          "base_uri": "https://localhost:8080/"
        },
        "id": "PHwPMND2tyoh",
        "outputId": "0a1d46a6-960f-41cc-f634-0a5e01db1d3e"
      },
      "source": [
        "#Since we are now working with a nueral network, the data needs to be scaled\n",
        "\n",
        "scaler = MinMaxScaler()\n",
        "\n",
        "scaler.fit(np.array(train).reshape(-1,1))\n",
        "train_scaled= scaler.transform(np.array(train).reshape(-1,1))\n",
        "test_scaled = scaler.transform(np.array(test).reshape(-1,1))\n",
        "train_scaled[0:5], test_scaled[0:5]"
      ],
      "execution_count": 27,
      "outputs": [
        {
          "output_type": "execute_result",
          "data": {
            "text/plain": [
              "(array([[0.        ],\n",
              "        [0.00659975],\n",
              "        [0.23760555],\n",
              "        [0.3325027 ],\n",
              "        [0.45090917]]), array([[0.23749441],\n",
              "        [0.24343608],\n",
              "        [0.53781145],\n",
              "        [0.70773339],\n",
              "        [0.82739166]]))"
            ]
          },
          "metadata": {},
          "execution_count": 27
        }
      ]
    },
    {
      "cell_type": "code",
      "metadata": {
        "id": "_QsLmIzlnSRK"
      },
      "source": [
        "# The date needs to be formatted properly -- a 12 step sequence will be created to deal with the annual seasonality \n",
        "\n",
        "n_input  = 12\n",
        "n_features = 1 \n",
        "\n",
        "generator = TimeseriesGenerator(train_scaled,train_scaled,sampling_rate=1, length=n_input, batch_size=1)"
      ],
      "execution_count": 28,
      "outputs": []
    },
    {
      "cell_type": "code",
      "metadata": {
        "colab": {
          "base_uri": "https://localhost:8080/"
        },
        "id": "VHXHHn5knVdh",
        "outputId": "3b162203-0996-4726-91b0-0bda0e3977d3"
      },
      "source": [
        "len(train_scaled), len(generator)"
      ],
      "execution_count": 29,
      "outputs": [
        {
          "output_type": "execute_result",
          "data": {
            "text/plain": [
              "(48, 36)"
            ]
          },
          "metadata": {},
          "execution_count": 29
        }
      ]
    },
    {
      "cell_type": "code",
      "metadata": {
        "colab": {
          "base_uri": "https://localhost:8080/"
        },
        "id": "ytEI0riInyuY",
        "outputId": "03bf5375-f9bd-4062-e6ea-d92a45d13c2c"
      },
      "source": [
        "generator[0][1],generator[0][1][0]"
      ],
      "execution_count": 30,
      "outputs": [
        {
          "output_type": "execute_result",
          "data": {
            "text/plain": [
              "(array([[0.10395078]]), array([0.10395078]))"
            ]
          },
          "metadata": {},
          "execution_count": 30
        }
      ]
    },
    {
      "cell_type": "code",
      "metadata": {
        "id": "JouZ3i9cqKtO"
      },
      "source": [
        "model = Sequential()\n",
        "\n",
        "model.add(LSTM(150, activation='relu', input_shape = (n_input,n_features)))\n",
        "model.add(Dense(1))\n",
        "model.compile(optimizer = 'adam', loss = 'mse')"
      ],
      "execution_count": 31,
      "outputs": []
    },
    {
      "cell_type": "code",
      "metadata": {
        "colab": {
          "base_uri": "https://localhost:8080/"
        },
        "id": "yJ1OstWEq_0j",
        "outputId": "5f7a1461-0f11-42a4-c3da-664ac7f19a9c"
      },
      "source": [
        "model.summary()"
      ],
      "execution_count": 32,
      "outputs": [
        {
          "output_type": "stream",
          "name": "stdout",
          "text": [
            "Model: \"sequential\"\n",
            "_________________________________________________________________\n",
            "Layer (type)                 Output Shape              Param #   \n",
            "=================================================================\n",
            "lstm (LSTM)                  (None, 150)               91200     \n",
            "_________________________________________________________________\n",
            "dense (Dense)                (None, 1)                 151       \n",
            "=================================================================\n",
            "Total params: 91,351\n",
            "Trainable params: 91,351\n",
            "Non-trainable params: 0\n",
            "_________________________________________________________________\n"
          ]
        }
      ]
    },
    {
      "cell_type": "code",
      "metadata": {
        "colab": {
          "base_uri": "https://localhost:8080/"
        },
        "id": "wSdNFlsR3x7H",
        "outputId": "ff9694b4-0147-43d8-94d7-99a5fbbb002b"
      },
      "source": [
        "type(generator)"
      ],
      "execution_count": 33,
      "outputs": [
        {
          "output_type": "execute_result",
          "data": {
            "text/plain": [
              "tensorflow.python.keras.preprocessing.sequence.TimeseriesGenerator"
            ]
          },
          "metadata": {},
          "execution_count": 33
        }
      ]
    },
    {
      "cell_type": "code",
      "metadata": {
        "colab": {
          "base_uri": "https://localhost:8080/"
        },
        "id": "TDjxtGxPrPeK",
        "outputId": "d4b0ba93-afd6-44ab-b60d-51ce2be675d2"
      },
      "source": [
        "model.fit(generator,epochs=75)"
      ],
      "execution_count": 34,
      "outputs": [
        {
          "output_type": "stream",
          "name": "stdout",
          "text": [
            "Epoch 1/75\n",
            "36/36 [==============================] - 4s 32ms/step - loss: 0.1239\n",
            "Epoch 2/75\n",
            "36/36 [==============================] - 1s 33ms/step - loss: 0.0769\n",
            "Epoch 3/75\n",
            "36/36 [==============================] - 1s 33ms/step - loss: 0.0560\n",
            "Epoch 4/75\n",
            "36/36 [==============================] - 1s 32ms/step - loss: 0.0517\n",
            "Epoch 5/75\n",
            "36/36 [==============================] - 1s 32ms/step - loss: 0.0496\n",
            "Epoch 6/75\n",
            "36/36 [==============================] - 1s 32ms/step - loss: 0.0505\n",
            "Epoch 7/75\n",
            "36/36 [==============================] - 1s 32ms/step - loss: 0.0392\n",
            "Epoch 8/75\n",
            "36/36 [==============================] - 1s 32ms/step - loss: 0.0264\n",
            "Epoch 9/75\n",
            "36/36 [==============================] - 1s 32ms/step - loss: 0.0248\n",
            "Epoch 10/75\n",
            "36/36 [==============================] - 1s 33ms/step - loss: 0.0212\n",
            "Epoch 11/75\n",
            "36/36 [==============================] - 1s 33ms/step - loss: 0.0120\n",
            "Epoch 12/75\n",
            "36/36 [==============================] - 1s 32ms/step - loss: 0.0123\n",
            "Epoch 13/75\n",
            "36/36 [==============================] - 1s 34ms/step - loss: 0.0222\n",
            "Epoch 14/75\n",
            "36/36 [==============================] - 1s 32ms/step - loss: 0.0116\n",
            "Epoch 15/75\n",
            "36/36 [==============================] - 1s 32ms/step - loss: 0.0095\n",
            "Epoch 16/75\n",
            "36/36 [==============================] - 1s 32ms/step - loss: 0.0077\n",
            "Epoch 17/75\n",
            "36/36 [==============================] - 1s 32ms/step - loss: 0.0059\n",
            "Epoch 18/75\n",
            "36/36 [==============================] - 1s 32ms/step - loss: 0.0056\n",
            "Epoch 19/75\n",
            "36/36 [==============================] - 1s 32ms/step - loss: 0.0056\n",
            "Epoch 20/75\n",
            "36/36 [==============================] - 1s 33ms/step - loss: 0.0052\n",
            "Epoch 21/75\n",
            "36/36 [==============================] - 1s 33ms/step - loss: 0.0044\n",
            "Epoch 22/75\n",
            "36/36 [==============================] - 1s 34ms/step - loss: 0.0061\n",
            "Epoch 23/75\n",
            "36/36 [==============================] - 1s 32ms/step - loss: 0.0067\n",
            "Epoch 24/75\n",
            "36/36 [==============================] - 1s 33ms/step - loss: 0.0043\n",
            "Epoch 25/75\n",
            "36/36 [==============================] - 1s 32ms/step - loss: 0.0049\n",
            "Epoch 26/75\n",
            "36/36 [==============================] - 1s 32ms/step - loss: 0.0071\n",
            "Epoch 27/75\n",
            "36/36 [==============================] - 1s 33ms/step - loss: 0.0045\n",
            "Epoch 28/75\n",
            "36/36 [==============================] - 1s 33ms/step - loss: 0.0050\n",
            "Epoch 29/75\n",
            "36/36 [==============================] - 1s 33ms/step - loss: 0.0033\n",
            "Epoch 30/75\n",
            "36/36 [==============================] - 1s 33ms/step - loss: 0.0060\n",
            "Epoch 31/75\n",
            "36/36 [==============================] - 1s 33ms/step - loss: 0.0038\n",
            "Epoch 32/75\n",
            "36/36 [==============================] - 1s 33ms/step - loss: 0.0049\n",
            "Epoch 33/75\n",
            "36/36 [==============================] - 1s 33ms/step - loss: 0.0058\n",
            "Epoch 34/75\n",
            "36/36 [==============================] - 1s 32ms/step - loss: 0.0043\n",
            "Epoch 35/75\n",
            "36/36 [==============================] - 1s 33ms/step - loss: 0.0032\n",
            "Epoch 36/75\n",
            "36/36 [==============================] - 1s 33ms/step - loss: 0.0045\n",
            "Epoch 37/75\n",
            "36/36 [==============================] - 1s 32ms/step - loss: 0.0036\n",
            "Epoch 38/75\n",
            "36/36 [==============================] - 1s 34ms/step - loss: 0.0050\n",
            "Epoch 39/75\n",
            "36/36 [==============================] - 1s 33ms/step - loss: 0.0037\n",
            "Epoch 40/75\n",
            "36/36 [==============================] - 1s 33ms/step - loss: 0.0031\n",
            "Epoch 41/75\n",
            "36/36 [==============================] - 1s 35ms/step - loss: 0.0051\n",
            "Epoch 42/75\n",
            "36/36 [==============================] - 1s 33ms/step - loss: 0.0037\n",
            "Epoch 43/75\n",
            "36/36 [==============================] - 1s 34ms/step - loss: 0.0039\n",
            "Epoch 44/75\n",
            "36/36 [==============================] - 1s 34ms/step - loss: 0.0036\n",
            "Epoch 45/75\n",
            "36/36 [==============================] - 1s 34ms/step - loss: 0.0032\n",
            "Epoch 46/75\n",
            "36/36 [==============================] - 1s 34ms/step - loss: 0.0028\n",
            "Epoch 47/75\n",
            "36/36 [==============================] - 1s 33ms/step - loss: 0.0057\n",
            "Epoch 48/75\n",
            "36/36 [==============================] - 1s 32ms/step - loss: 0.0042\n",
            "Epoch 49/75\n",
            "36/36 [==============================] - 1s 32ms/step - loss: 0.0044\n",
            "Epoch 50/75\n",
            "36/36 [==============================] - 1s 33ms/step - loss: 0.0047\n",
            "Epoch 51/75\n",
            "36/36 [==============================] - 1s 32ms/step - loss: 0.0028\n",
            "Epoch 52/75\n",
            "36/36 [==============================] - 1s 33ms/step - loss: 0.0031\n",
            "Epoch 53/75\n",
            "36/36 [==============================] - 1s 33ms/step - loss: 0.0044\n",
            "Epoch 54/75\n",
            "36/36 [==============================] - 1s 33ms/step - loss: 0.0026\n",
            "Epoch 55/75\n",
            "36/36 [==============================] - 1s 34ms/step - loss: 0.0037\n",
            "Epoch 56/75\n",
            "36/36 [==============================] - 1s 32ms/step - loss: 0.0031\n",
            "Epoch 57/75\n",
            "36/36 [==============================] - 1s 32ms/step - loss: 0.0033\n",
            "Epoch 58/75\n",
            "36/36 [==============================] - 1s 32ms/step - loss: 0.0029\n",
            "Epoch 59/75\n",
            "36/36 [==============================] - 1s 32ms/step - loss: 0.0040\n",
            "Epoch 60/75\n",
            "36/36 [==============================] - 1s 33ms/step - loss: 0.0067\n",
            "Epoch 61/75\n",
            "36/36 [==============================] - 1s 33ms/step - loss: 0.0060\n",
            "Epoch 62/75\n",
            "36/36 [==============================] - 1s 32ms/step - loss: 0.0034\n",
            "Epoch 63/75\n",
            "36/36 [==============================] - 1s 32ms/step - loss: 0.0029\n",
            "Epoch 64/75\n",
            "36/36 [==============================] - 1s 32ms/step - loss: 0.0042\n",
            "Epoch 65/75\n",
            "36/36 [==============================] - 1s 32ms/step - loss: 0.0037\n",
            "Epoch 66/75\n",
            "36/36 [==============================] - 1s 32ms/step - loss: 0.0063\n",
            "Epoch 67/75\n",
            "36/36 [==============================] - 1s 32ms/step - loss: 0.0034\n",
            "Epoch 68/75\n",
            "36/36 [==============================] - 1s 32ms/step - loss: 0.0035\n",
            "Epoch 69/75\n",
            "36/36 [==============================] - 1s 33ms/step - loss: 0.0032\n",
            "Epoch 70/75\n",
            "36/36 [==============================] - 1s 33ms/step - loss: 0.0028\n",
            "Epoch 71/75\n",
            "36/36 [==============================] - 1s 32ms/step - loss: 0.0026\n",
            "Epoch 72/75\n",
            "36/36 [==============================] - 1s 34ms/step - loss: 0.0022\n",
            "Epoch 73/75\n",
            "36/36 [==============================] - 1s 32ms/step - loss: 0.0028\n",
            "Epoch 74/75\n",
            "36/36 [==============================] - 1s 32ms/step - loss: 0.0026\n",
            "Epoch 75/75\n",
            "36/36 [==============================] - 1s 32ms/step - loss: 0.0025\n"
          ]
        },
        {
          "output_type": "execute_result",
          "data": {
            "text/plain": [
              "<tensorflow.python.keras.callbacks.History at 0x7fa85519d290>"
            ]
          },
          "metadata": {},
          "execution_count": 34
        }
      ]
    },
    {
      "cell_type": "code",
      "metadata": {
        "colab": {
          "base_uri": "https://localhost:8080/",
          "height": 265
        },
        "id": "3h2pwyeV9Iz4",
        "outputId": "f64fbd2c-a30b-4701-9fd5-54610952824d"
      },
      "source": [
        "#Plot epochs vs MSE (loss function for the RNN)\n",
        "\n",
        "#the model converged to its min MSE\n",
        "\n",
        "loss = model.history.history['loss']\n",
        "\n",
        "plt.plot(range(len(loss)),loss)\n",
        "plt.show()"
      ],
      "execution_count": 35,
      "outputs": [
        {
          "output_type": "display_data",
          "data": {
            "image/png": "[encoded data removed]",
            "text/plain": [
              "<Figure size 432x288 with 1 Axes>"
            ]
          },
          "metadata": {
            "needs_background": "light"
          }
        }
      ]
    },
    {
      "cell_type": "code",
      "metadata": {
        "colab": {
          "base_uri": "https://localhost:8080/"
        },
        "id": "L2LxAjyP_ftx",
        "outputId": "76c69f61-e68b-41df-dbf0-9ea5be43cd1d"
      },
      "source": [
        "first_eval_batch = train_scaled[-12:]\n",
        "first_eval_batch\n"
      ],
      "execution_count": 36,
      "outputs": [
        {
          "output_type": "execute_result",
          "data": {
            "text/plain": [
              "array([[0.21575311],\n",
              "       [0.23405926],\n",
              "       [0.49132805],\n",
              "       [0.6537538 ],\n",
              "       [0.78065965],\n",
              "       [0.83028426],\n",
              "       [1.        ],\n",
              "       [0.77007783],\n",
              "       [0.64626784],\n",
              "       [0.5977254 ],\n",
              "       [0.63839582],\n",
              "       [0.30491771]])"
            ]
          },
          "metadata": {},
          "execution_count": 36
        }
      ]
    },
    {
      "cell_type": "code",
      "metadata": {
        "colab": {
          "base_uri": "https://localhost:8080/"
        },
        "id": "1eSUQYETCCDn",
        "outputId": "043fafbe-f7c7-4281-cd80-959202d4705c"
      },
      "source": [
        "first_eval_batch=first_eval_batch.reshape((1,n_input,n_features))\n",
        "x=model.predict(first_eval_batch)[0]\n",
        "x"
      ],
      "execution_count": 37,
      "outputs": [
        {
          "output_type": "execute_result",
          "data": {
            "text/plain": [
              "array([0.2585476], dtype=float32)"
            ]
          },
          "metadata": {},
          "execution_count": 37
        }
      ]
    },
    {
      "cell_type": "code",
      "metadata": {
        "id": "-IwuhJwhC8Qm"
      },
      "source": [
        "#forecasting\n",
        "\n",
        "test_predictions = []\n",
        "\n",
        "#first 12 data points from test test\n",
        "first_eval_batch = train_scaled[-n_input:]\n",
        "#reshaped to fit RNN input shape\n",
        "current_batch = first_eval_batch.reshape((1,n_input,n_features))\n",
        "\n",
        "for i in range(len(test_scaled)):\n",
        "\n",
        "  \n",
        "  current_pred = model.predict(current_batch)[0]\n",
        "\n",
        "  test_predictions.append(current_pred)\n",
        "\n",
        "  #removes first data and replaces with prediction\n",
        "  current_batch = np.append(current_batch[:,1:,:],[[current_pred]], axis=1)\n"
      ],
      "execution_count": 38,
      "outputs": []
    },
    {
      "cell_type": "code",
      "metadata": {
        "id": "FSa67PbOIUvX"
      },
      "source": [
        "true_predictions=scaler.inverse_transform(test_predictions)"
      ],
      "execution_count": 39,
      "outputs": []
    },
    {
      "cell_type": "code",
      "metadata": {
        "colab": {
          "base_uri": "https://localhost:8080/",
          "height": 452
        },
        "id": "StKgXqvZIde_",
        "outputId": "e250b81e-e3ab-47be-844f-485e6521abab"
      },
      "source": [
        "results_table['RNN Predictions']=np.around(true_predictions).astype(int)\n",
        "results_table['Residuals_2']= results_table[\"sales\"]-results_table['RNN Predictions']\n",
        "results_table"
      ],
      "execution_count": 40,
      "outputs": [
        {
          "output_type": "execute_result",
          "data": {
            "text/html": [
              "<div>\n",
              "<style scoped>\n",
              "    .dataframe tbody tr th:only-of-type {\n",
              "        vertical-align: middle;\n",
              "    }\n",
              "\n",
              "    .dataframe tbody tr th {\n",
              "        vertical-align: top;\n",
              "    }\n",
              "\n",
              "    .dataframe thead th {\n",
              "        text-align: right;\n",
              "    }\n",
              "</style>\n",
              "<table border=\"1\" class=\"dataframe\">\n",
              "  <thead>\n",
              "    <tr style=\"text-align: right;\">\n",
              "      <th></th>\n",
              "      <th>sales</th>\n",
              "      <th>SARIMA Predictions</th>\n",
              "      <th>Residuals_1</th>\n",
              "      <th>RNN Predictions</th>\n",
              "      <th>Residuals_2</th>\n",
              "    </tr>\n",
              "    <tr>\n",
              "      <th>date</th>\n",
              "      <th></th>\n",
              "      <th></th>\n",
              "      <th></th>\n",
              "      <th></th>\n",
              "      <th></th>\n",
              "    </tr>\n",
              "  </thead>\n",
              "  <tbody>\n",
              "    <tr>\n",
              "      <th>2017-01-31</th>\n",
              "      <td>617306</td>\n",
              "      <td>639629</td>\n",
              "      <td>-22323</td>\n",
              "      <td>631702</td>\n",
              "      <td>-14396</td>\n",
              "    </tr>\n",
              "    <tr>\n",
              "      <th>2017-02-28</th>\n",
              "      <td>621369</td>\n",
              "      <td>631020</td>\n",
              "      <td>-9651</td>\n",
              "      <td>689775</td>\n",
              "      <td>-68406</td>\n",
              "    </tr>\n",
              "    <tr>\n",
              "      <th>2017-03-31</th>\n",
              "      <td>822667</td>\n",
              "      <td>794229</td>\n",
              "      <td>28438</td>\n",
              "      <td>830462</td>\n",
              "      <td>-7795</td>\n",
              "    </tr>\n",
              "    <tr>\n",
              "      <th>2017-04-30</th>\n",
              "      <td>938862</td>\n",
              "      <td>934063</td>\n",
              "      <td>4799</td>\n",
              "      <td>941423</td>\n",
              "      <td>-2561</td>\n",
              "    </tr>\n",
              "    <tr>\n",
              "      <th>2017-05-31</th>\n",
              "      <td>1020686</td>\n",
              "      <td>1022777</td>\n",
              "      <td>-2091</td>\n",
              "      <td>1040628</td>\n",
              "      <td>-19942</td>\n",
              "    </tr>\n",
              "    <tr>\n",
              "      <th>2017-06-30</th>\n",
              "      <td>1064624</td>\n",
              "      <td>1056328</td>\n",
              "      <td>8296</td>\n",
              "      <td>1109357</td>\n",
              "      <td>-44733</td>\n",
              "    </tr>\n",
              "    <tr>\n",
              "      <th>2017-07-31</th>\n",
              "      <td>1171393</td>\n",
              "      <td>1180561</td>\n",
              "      <td>-9168</td>\n",
              "      <td>1148628</td>\n",
              "      <td>22765</td>\n",
              "    </tr>\n",
              "    <tr>\n",
              "      <th>2017-08-31</th>\n",
              "      <td>1026403</td>\n",
              "      <td>1012897</td>\n",
              "      <td>13506</td>\n",
              "      <td>1034950</td>\n",
              "      <td>-8547</td>\n",
              "    </tr>\n",
              "    <tr>\n",
              "      <th>2017-09-30</th>\n",
              "      <td>935263</td>\n",
              "      <td>943307</td>\n",
              "      <td>-8044</td>\n",
              "      <td>957175</td>\n",
              "      <td>-21912</td>\n",
              "    </tr>\n",
              "    <tr>\n",
              "      <th>2017-10-31</th>\n",
              "      <td>891160</td>\n",
              "      <td>902367</td>\n",
              "      <td>-11207</td>\n",
              "      <td>921846</td>\n",
              "      <td>-30686</td>\n",
              "    </tr>\n",
              "    <tr>\n",
              "      <th>2017-11-30</th>\n",
              "      <td>928837</td>\n",
              "      <td>918837</td>\n",
              "      <td>10000</td>\n",
              "      <td>878499</td>\n",
              "      <td>50338</td>\n",
              "    </tr>\n",
              "    <tr>\n",
              "      <th>2017-12-31</th>\n",
              "      <td>695170</td>\n",
              "      <td>702475</td>\n",
              "      <td>-7305</td>\n",
              "      <td>710129</td>\n",
              "      <td>-14959</td>\n",
              "    </tr>\n",
              "  </tbody>\n",
              "</table>\n",
              "</div>"
            ],
            "text/plain": [
              "              sales  SARIMA Predictions  ...  RNN Predictions  Residuals_2\n",
              "date                                     ...                              \n",
              "2017-01-31   617306              639629  ...           631702       -14396\n",
              "2017-02-28   621369              631020  ...           689775       -68406\n",
              "2017-03-31   822667              794229  ...           830462        -7795\n",
              "2017-04-30   938862              934063  ...           941423        -2561\n",
              "2017-05-31  1020686             1022777  ...          1040628       -19942\n",
              "2017-06-30  1064624             1056328  ...          1109357       -44733\n",
              "2017-07-31  1171393             1180561  ...          1148628        22765\n",
              "2017-08-31  1026403             1012897  ...          1034950        -8547\n",
              "2017-09-30   935263              943307  ...           957175       -21912\n",
              "2017-10-31   891160              902367  ...           921846       -30686\n",
              "2017-11-30   928837              918837  ...           878499        50338\n",
              "2017-12-31   695170              702475  ...           710129       -14959\n",
              "\n",
              "[12 rows x 5 columns]"
            ]
          },
          "metadata": {},
          "execution_count": 40
        }
      ]
    },
    {
      "cell_type": "code",
      "metadata": {
        "colab": {
          "base_uri": "https://localhost:8080/",
          "height": 286
        },
        "id": "wNlVGV9UM86f",
        "outputId": "642b4741-a961-4912-d01e-b5f854c594ff"
      },
      "source": [
        "plt.figure(figsize=(10,4))\n",
        "\n",
        "plt.plot(results_table[\"RNN Predictions\"])\n",
        "plt.plot(df[\"sales\"])\n",
        "\n",
        "plt.legend(('Predictions', 'Sales'), fontsize=16)\n",
        "\n",
        "plt.title('Sales vs Predictions', fontsize=20)\n",
        "plt.ylabel('Dollar Amount', fontsize=16);"
      ],
      "execution_count": 41,
      "outputs": [
        {
          "output_type": "display_data",
          "data": {
            "image/png": "[encoded data removed]",
            "text/plain": [
              "<Figure size 720x288 with 1 Axes>"
            ]
          },
          "metadata": {
            "needs_background": "light"
          }
        }
      ]
    },
    {
      "cell_type": "code",
      "metadata": {
        "colab": {
          "base_uri": "https://localhost:8080/"
        },
        "id": "U56ARUg2NGF9",
        "outputId": "c705cd31-d105-4d7b-888f-602749e014d9"
      },
      "source": [
        "print('Mean Absolute Percent Error:', round(np.mean(abs(results_table[\"Residuals_2\"]/results_table[\"sales\"])),4))\n",
        "print('Root Mean Squared Error:', np.sqrt(np.mean(results_table[\"Residuals_2\"]**2)))"
      ],
      "execution_count": 42,
      "outputs": [
        {
          "output_type": "stream",
          "name": "stdout",
          "text": [
            "Mean Absolute Percent Error: 0.0307\n",
            "Root Mean Squared Error: 31784.98040217528\n"
          ]
        }
      ]
    },
    {
      "cell_type": "markdown",
      "metadata": {
        "id": "oc4B_a1W9fAF"
      },
      "source": [
        "# Prophet \n"
      ]
    },
    {
      "cell_type": "code",
      "metadata": {
        "colab": {
          "base_uri": "https://localhost:8080/",
          "height": 235
        },
        "id": "OSonBtz7sO1K",
        "outputId": "5a0d7805-d771-4d56-895b-5e25347dc998"
      },
      "source": [
        "#Prophet requires a diff data format than the SARIMA model\n",
        "\n",
        "df.head()"
      ],
      "execution_count": 43,
      "outputs": [
        {
          "output_type": "execute_result",
          "data": {
            "text/html": [
              "<div>\n",
              "<style scoped>\n",
              "    .dataframe tbody tr th:only-of-type {\n",
              "        vertical-align: middle;\n",
              "    }\n",
              "\n",
              "    .dataframe tbody tr th {\n",
              "        vertical-align: top;\n",
              "    }\n",
              "\n",
              "    .dataframe thead th {\n",
              "        text-align: right;\n",
              "    }\n",
              "</style>\n",
              "<table border=\"1\" class=\"dataframe\">\n",
              "  <thead>\n",
              "    <tr style=\"text-align: right;\">\n",
              "      <th></th>\n",
              "      <th>store</th>\n",
              "      <th>item</th>\n",
              "      <th>sales</th>\n",
              "      <th>3-month-SMA</th>\n",
              "      <th>3-month-Std</th>\n",
              "    </tr>\n",
              "    <tr>\n",
              "      <th>date</th>\n",
              "      <th></th>\n",
              "      <th></th>\n",
              "      <th></th>\n",
              "      <th></th>\n",
              "      <th></th>\n",
              "    </tr>\n",
              "  </thead>\n",
              "  <tbody>\n",
              "    <tr>\n",
              "      <th>2013-01-31</th>\n",
              "      <td>85250</td>\n",
              "      <td>395250</td>\n",
              "      <td>454904</td>\n",
              "      <td>NaN</td>\n",
              "      <td>NaN</td>\n",
              "    </tr>\n",
              "    <tr>\n",
              "      <th>2013-02-28</th>\n",
              "      <td>77000</td>\n",
              "      <td>357000</td>\n",
              "      <td>459417</td>\n",
              "      <td>NaN</td>\n",
              "      <td>NaN</td>\n",
              "    </tr>\n",
              "    <tr>\n",
              "      <th>2013-03-31</th>\n",
              "      <td>85250</td>\n",
              "      <td>395250</td>\n",
              "      <td>617382</td>\n",
              "      <td>510567.666667</td>\n",
              "      <td>92531.444095</td>\n",
              "    </tr>\n",
              "    <tr>\n",
              "      <th>2013-04-30</th>\n",
              "      <td>82500</td>\n",
              "      <td>382500</td>\n",
              "      <td>682274</td>\n",
              "      <td>586357.666667</td>\n",
              "      <td>114621.954949</td>\n",
              "    </tr>\n",
              "    <tr>\n",
              "      <th>2013-05-31</th>\n",
              "      <td>85250</td>\n",
              "      <td>395250</td>\n",
              "      <td>763242</td>\n",
              "      <td>687632.666667</td>\n",
              "      <td>73077.502566</td>\n",
              "    </tr>\n",
              "  </tbody>\n",
              "</table>\n",
              "</div>"
            ],
            "text/plain": [
              "            store    item   sales    3-month-SMA    3-month-Std\n",
              "date                                                           \n",
              "2013-01-31  85250  395250  454904            NaN            NaN\n",
              "2013-02-28  77000  357000  459417            NaN            NaN\n",
              "2013-03-31  85250  395250  617382  510567.666667   92531.444095\n",
              "2013-04-30  82500  382500  682274  586357.666667  114621.954949\n",
              "2013-05-31  85250  395250  763242  687632.666667   73077.502566"
            ]
          },
          "metadata": {},
          "execution_count": 43
        }
      ]
    },
    {
      "cell_type": "code",
      "metadata": {
        "colab": {
          "base_uri": "https://localhost:8080/",
          "height": 204
        },
        "id": "X7dTQv20tM4P",
        "outputId": "f50b1b3b-8161-4157-9dc0-aef74c08e18b"
      },
      "source": [
        "#Formatting requirement - time stamp labelled as 'ds' and sales as \"y\"\n",
        "\n",
        "df_proph = df[[\"sales\"]]\n",
        "\n",
        "df_proph.reset_index(level=0, inplace=True)\n",
        "\n",
        "df_proph.rename(columns={\"date\":\"ds\",\"sales\":\"y\"},inplace=True)\n",
        "\n",
        "df_proph[\"ds\"]= pd.to_datetime(df_proph[\"ds\"]) #time stamp needs to be in to_datetime format\n",
        "\n",
        "df_proph.head()"
      ],
      "execution_count": 44,
      "outputs": [
        {
          "output_type": "execute_result",
          "data": {
            "text/html": [
              "<div>\n",
              "<style scoped>\n",
              "    .dataframe tbody tr th:only-of-type {\n",
              "        vertical-align: middle;\n",
              "    }\n",
              "\n",
              "    .dataframe tbody tr th {\n",
              "        vertical-align: top;\n",
              "    }\n",
              "\n",
              "    .dataframe thead th {\n",
              "        text-align: right;\n",
              "    }\n",
              "</style>\n",
              "<table border=\"1\" class=\"dataframe\">\n",
              "  <thead>\n",
              "    <tr style=\"text-align: right;\">\n",
              "      <th></th>\n",
              "      <th>ds</th>\n",
              "      <th>y</th>\n",
              "    </tr>\n",
              "  </thead>\n",
              "  <tbody>\n",
              "    <tr>\n",
              "      <th>0</th>\n",
              "      <td>2013-01-31</td>\n",
              "      <td>454904</td>\n",
              "    </tr>\n",
              "    <tr>\n",
              "      <th>1</th>\n",
              "      <td>2013-02-28</td>\n",
              "      <td>459417</td>\n",
              "    </tr>\n",
              "    <tr>\n",
              "      <th>2</th>\n",
              "      <td>2013-03-31</td>\n",
              "      <td>617382</td>\n",
              "    </tr>\n",
              "    <tr>\n",
              "      <th>3</th>\n",
              "      <td>2013-04-30</td>\n",
              "      <td>682274</td>\n",
              "    </tr>\n",
              "    <tr>\n",
              "      <th>4</th>\n",
              "      <td>2013-05-31</td>\n",
              "      <td>763242</td>\n",
              "    </tr>\n",
              "  </tbody>\n",
              "</table>\n",
              "</div>"
            ],
            "text/plain": [
              "          ds       y\n",
              "0 2013-01-31  454904\n",
              "1 2013-02-28  459417\n",
              "2 2013-03-31  617382\n",
              "3 2013-04-30  682274\n",
              "4 2013-05-31  763242"
            ]
          },
          "metadata": {},
          "execution_count": 44
        }
      ]
    },
    {
      "cell_type": "code",
      "metadata": {
        "colab": {
          "base_uri": "https://localhost:8080/"
        },
        "id": "_Qb3HCtkwiS1",
        "outputId": "a57e995a-0ee4-45d7-f52f-3316b171046b"
      },
      "source": [
        "#Creating training and test set\n",
        "\n",
        "len(df_proph)*.80"
      ],
      "execution_count": 45,
      "outputs": [
        {
          "output_type": "execute_result",
          "data": {
            "text/plain": [
              "48.0"
            ]
          },
          "metadata": {},
          "execution_count": 45
        }
      ]
    },
    {
      "cell_type": "code",
      "metadata": {
        "id": "mlHManbCwkqQ"
      },
      "source": [
        "train = df_proph.iloc[:48,:]\n",
        "test = df_proph.iloc[48:,:]"
      ],
      "execution_count": 46,
      "outputs": []
    },
    {
      "cell_type": "code",
      "metadata": {
        "colab": {
          "base_uri": "https://localhost:8080/"
        },
        "id": "6kccFJlbsR0f",
        "outputId": "68b2b1e3-59c8-4750-f5ae-2f9efd035e8b"
      },
      "source": [
        "#Intiate the model\n",
        "\n",
        "model_proph = Prophet()\n",
        "\n",
        "#Fit the model\n",
        "\n",
        "model_proph.fit(train)\n",
        "\n",
        "#Create a dataframe for predictions\n",
        "\n",
        "future= model_proph.make_future_dataframe(periods=12, freq=\"M\")\n",
        "\n",
        "len(future) #lenght matches orginal dataframe"
      ],
      "execution_count": 47,
      "outputs": [
        {
          "output_type": "stream",
          "name": "stderr",
          "text": [
            "INFO:fbprophet:Disabling weekly seasonality. Run prophet with weekly_seasonality=True to override this.\n",
            "INFO:fbprophet:Disabling daily seasonality. Run prophet with daily_seasonality=True to override this.\n"
          ]
        },
        {
          "output_type": "execute_result",
          "data": {
            "text/plain": [
              "60"
            ]
          },
          "metadata": {},
          "execution_count": 47
        }
      ]
    },
    {
      "cell_type": "code",
      "metadata": {
        "id": "cwScaSZCyNrd"
      },
      "source": [
        "predit_proph = model_proph.predict(future)"
      ],
      "execution_count": 48,
      "outputs": []
    },
    {
      "cell_type": "code",
      "metadata": {
        "colab": {
          "base_uri": "https://localhost:8080/"
        },
        "id": "gV4i6s8z0Pad",
        "outputId": "66e9d52f-e438-4056-a6ac-bc8f1c337837"
      },
      "source": [
        "#the two import columns are \"ds\" (time stamp) and \"yhat\" (predictions)\n",
        "\n",
        "predit_proph.columns\n",
        "\n"
      ],
      "execution_count": 49,
      "outputs": [
        {
          "output_type": "execute_result",
          "data": {
            "text/plain": [
              "Index(['ds', 'trend', 'yhat_lower', 'yhat_upper', 'trend_lower', 'trend_upper',\n",
              "       'additive_terms', 'additive_terms_lower', 'additive_terms_upper',\n",
              "       'yearly', 'yearly_lower', 'yearly_upper', 'multiplicative_terms',\n",
              "       'multiplicative_terms_lower', 'multiplicative_terms_upper', 'yhat'],\n",
              "      dtype='object')"
            ]
          },
          "metadata": {},
          "execution_count": 49
        }
      ]
    },
    {
      "cell_type": "code",
      "metadata": {
        "colab": {
          "base_uri": "https://localhost:8080/",
          "height": 452
        },
        "id": "KPTv6Wvf0NTK",
        "outputId": "cc0788b9-8580-440d-ff79-4d0766e7d20d"
      },
      "source": [
        "results_table['Proph Predictions'] = list(map(int,predit_proph[\"yhat\"][-12:]))\n",
        "\n",
        "results_table['Residuals_3']= results_table[\"sales\"]-results_table['Proph Predictions']\n",
        "\n",
        "results_table"
      ],
      "execution_count": 50,
      "outputs": [
        {
          "output_type": "execute_result",
          "data": {
            "text/html": [
              "<div>\n",
              "<style scoped>\n",
              "    .dataframe tbody tr th:only-of-type {\n",
              "        vertical-align: middle;\n",
              "    }\n",
              "\n",
              "    .dataframe tbody tr th {\n",
              "        vertical-align: top;\n",
              "    }\n",
              "\n",
              "    .dataframe thead th {\n",
              "        text-align: right;\n",
              "    }\n",
              "</style>\n",
              "<table border=\"1\" class=\"dataframe\">\n",
              "  <thead>\n",
              "    <tr style=\"text-align: right;\">\n",
              "      <th></th>\n",
              "      <th>sales</th>\n",
              "      <th>SARIMA Predictions</th>\n",
              "      <th>Residuals_1</th>\n",
              "      <th>RNN Predictions</th>\n",
              "      <th>Residuals_2</th>\n",
              "      <th>Proph Predictions</th>\n",
              "      <th>Residuals_3</th>\n",
              "    </tr>\n",
              "    <tr>\n",
              "      <th>date</th>\n",
              "      <th></th>\n",
              "      <th></th>\n",
              "      <th></th>\n",
              "      <th></th>\n",
              "      <th></th>\n",
              "      <th></th>\n",
              "      <th></th>\n",
              "    </tr>\n",
              "  </thead>\n",
              "  <tbody>\n",
              "    <tr>\n",
              "      <th>2017-01-31</th>\n",
              "      <td>617306</td>\n",
              "      <td>639629</td>\n",
              "      <td>-22323</td>\n",
              "      <td>631702</td>\n",
              "      <td>-14396</td>\n",
              "      <td>712228</td>\n",
              "      <td>-94922</td>\n",
              "    </tr>\n",
              "    <tr>\n",
              "      <th>2017-02-28</th>\n",
              "      <td>621369</td>\n",
              "      <td>631020</td>\n",
              "      <td>-9651</td>\n",
              "      <td>689775</td>\n",
              "      <td>-68406</td>\n",
              "      <td>699799</td>\n",
              "      <td>-78430</td>\n",
              "    </tr>\n",
              "    <tr>\n",
              "      <th>2017-03-31</th>\n",
              "      <td>822667</td>\n",
              "      <td>794229</td>\n",
              "      <td>28438</td>\n",
              "      <td>830462</td>\n",
              "      <td>-7795</td>\n",
              "      <td>871520</td>\n",
              "      <td>-48853</td>\n",
              "    </tr>\n",
              "    <tr>\n",
              "      <th>2017-04-30</th>\n",
              "      <td>938862</td>\n",
              "      <td>934063</td>\n",
              "      <td>4799</td>\n",
              "      <td>941423</td>\n",
              "      <td>-2561</td>\n",
              "      <td>962749</td>\n",
              "      <td>-23887</td>\n",
              "    </tr>\n",
              "    <tr>\n",
              "      <th>2017-05-31</th>\n",
              "      <td>1020686</td>\n",
              "      <td>1022777</td>\n",
              "      <td>-2091</td>\n",
              "      <td>1040628</td>\n",
              "      <td>-19942</td>\n",
              "      <td>1053696</td>\n",
              "      <td>-33010</td>\n",
              "    </tr>\n",
              "    <tr>\n",
              "      <th>2017-06-30</th>\n",
              "      <td>1064624</td>\n",
              "      <td>1056328</td>\n",
              "      <td>8296</td>\n",
              "      <td>1109357</td>\n",
              "      <td>-44733</td>\n",
              "      <td>1085903</td>\n",
              "      <td>-21279</td>\n",
              "    </tr>\n",
              "    <tr>\n",
              "      <th>2017-07-31</th>\n",
              "      <td>1171393</td>\n",
              "      <td>1180561</td>\n",
              "      <td>-9168</td>\n",
              "      <td>1148628</td>\n",
              "      <td>22765</td>\n",
              "      <td>1179991</td>\n",
              "      <td>-8598</td>\n",
              "    </tr>\n",
              "    <tr>\n",
              "      <th>2017-08-31</th>\n",
              "      <td>1026403</td>\n",
              "      <td>1012897</td>\n",
              "      <td>13506</td>\n",
              "      <td>1034950</td>\n",
              "      <td>-8547</td>\n",
              "      <td>1057645</td>\n",
              "      <td>-31242</td>\n",
              "    </tr>\n",
              "    <tr>\n",
              "      <th>2017-09-30</th>\n",
              "      <td>935263</td>\n",
              "      <td>943307</td>\n",
              "      <td>-8044</td>\n",
              "      <td>957175</td>\n",
              "      <td>-21912</td>\n",
              "      <td>970595</td>\n",
              "      <td>-35332</td>\n",
              "    </tr>\n",
              "    <tr>\n",
              "      <th>2017-10-31</th>\n",
              "      <td>891160</td>\n",
              "      <td>902367</td>\n",
              "      <td>-11207</td>\n",
              "      <td>921846</td>\n",
              "      <td>-30686</td>\n",
              "      <td>938752</td>\n",
              "      <td>-47592</td>\n",
              "    </tr>\n",
              "    <tr>\n",
              "      <th>2017-11-30</th>\n",
              "      <td>928837</td>\n",
              "      <td>918837</td>\n",
              "      <td>10000</td>\n",
              "      <td>878499</td>\n",
              "      <td>50338</td>\n",
              "      <td>971194</td>\n",
              "      <td>-42357</td>\n",
              "    </tr>\n",
              "    <tr>\n",
              "      <th>2017-12-31</th>\n",
              "      <td>695170</td>\n",
              "      <td>702475</td>\n",
              "      <td>-7305</td>\n",
              "      <td>710129</td>\n",
              "      <td>-14959</td>\n",
              "      <td>756252</td>\n",
              "      <td>-61082</td>\n",
              "    </tr>\n",
              "  </tbody>\n",
              "</table>\n",
              "</div>"
            ],
            "text/plain": [
              "              sales  SARIMA Predictions  ...  Proph Predictions  Residuals_3\n",
              "date                                     ...                                \n",
              "2017-01-31   617306              639629  ...             712228       -94922\n",
              "2017-02-28   621369              631020  ...             699799       -78430\n",
              "2017-03-31   822667              794229  ...             871520       -48853\n",
              "2017-04-30   938862              934063  ...             962749       -23887\n",
              "2017-05-31  1020686             1022777  ...            1053696       -33010\n",
              "2017-06-30  1064624             1056328  ...            1085903       -21279\n",
              "2017-07-31  1171393             1180561  ...            1179991        -8598\n",
              "2017-08-31  1026403             1012897  ...            1057645       -31242\n",
              "2017-09-30   935263              943307  ...             970595       -35332\n",
              "2017-10-31   891160              902367  ...             938752       -47592\n",
              "2017-11-30   928837              918837  ...             971194       -42357\n",
              "2017-12-31   695170              702475  ...             756252       -61082\n",
              "\n",
              "[12 rows x 7 columns]"
            ]
          },
          "metadata": {},
          "execution_count": 50
        }
      ]
    },
    {
      "cell_type": "code",
      "metadata": {
        "colab": {
          "base_uri": "https://localhost:8080/",
          "height": 286
        },
        "id": "uSsdKw1A4A2P",
        "outputId": "3b77bbeb-5e6f-4660-aded-513d12dc2b12"
      },
      "source": [
        "plt.figure(figsize=(10,4))\n",
        "\n",
        "plt.plot(results_table[\"Proph Predictions\"])\n",
        "plt.plot(df[\"sales\"])\n",
        "\n",
        "plt.legend(('Predictions', 'Sales'), fontsize=16)\n",
        "\n",
        "plt.title('Sales vs Predictions', fontsize=20)\n",
        "plt.ylabel('Dollar Amount', fontsize=16);"
      ],
      "execution_count": 51,
      "outputs": [
        {
          "output_type": "display_data",
          "data": {
            "image/png": "[encoded data removed]",
            "text/plain": [
              "<Figure size 720x288 with 1 Axes>"
            ]
          },
          "metadata": {
            "needs_background": "light"
          }
        }
      ]
    },
    {
      "cell_type": "code",
      "metadata": {
        "colab": {
          "base_uri": "https://localhost:8080/",
          "height": 347
        },
        "id": "kSSYj7Ys4UjQ",
        "outputId": "1071a101-542f-4ed2-ec6d-b9a93a1dac42"
      },
      "source": [
        "# The residuals are not random\n",
        "\n",
        "title='Residuals'\n",
        "ylabel='Dollar Amount'\n",
        "\n",
        "\n",
        "ax = results_table[\"Residuals_3\"].plot(figsize=(12,5),title=title)\n",
        "ax.autoscale(axis='x',tight=True)\n",
        "ax.set(xlabel=xlabel, ylabel=ylabel);"
      ],
      "execution_count": 52,
      "outputs": [
        {
          "output_type": "display_data",
          "data": {
            "image/png": "[encoded data removed]",
            "text/plain": [
              "<Figure size 864x360 with 1 Axes>"
            ]
          },
          "metadata": {
            "needs_background": "light"
          }
        }
      ]
    },
    {
      "cell_type": "code",
      "metadata": {
        "colab": {
          "base_uri": "https://localhost:8080/",
          "height": 281
        },
        "id": "7JjBObL3Npeu",
        "outputId": "9bf9dd7d-ed2e-45c2-c7d1-465608281f18"
      },
      "source": [
        "# No serial correlation in the residuals\n",
        "\n",
        "# Still not happy wit the overpredicting of the model.. (since I am not pro in Prophet, I'll save this for another notebook with an indepth tutorial on Prophet)\n",
        "\n",
        "plot_acf(results_table[\"Residuals_3\"])\n",
        "plt.show()"
      ],
      "execution_count": 53,
      "outputs": [
        {
          "output_type": "display_data",
          "data": {
            "image/png": "[encoded data removed]",
            "text/plain": [
              "<Figure size 432x288 with 1 Axes>"
            ]
          },
          "metadata": {
            "needs_background": "light"
          }
        }
      ]
    },
    {
      "cell_type": "code",
      "metadata": {
        "colab": {
          "base_uri": "https://localhost:8080/"
        },
        "id": "ccfI-SO8QDWA",
        "outputId": "9c0ea6a3-b8a7-4064-fc93-7e468a78bc2e"
      },
      "source": [
        "\n",
        "\n",
        "print(\"*********SARIMA**********\")\n",
        "print('Mean Absolute Percent Error:', round(np.mean(abs(results_table[\"Residuals_1\"]/results_table[\"sales\"])),4))\n",
        "print('Root Mean Squared Error:', np.sqrt(np.mean(results_table[\"Residuals_1\"]**2)))\n",
        "print(\"\")\n",
        "\n",
        "print(\"*********LTSM**********\")\n",
        "print('Mean Absolute Percent Error:', round(np.mean(abs(results_table[\"Residuals_2\"]/results_table[\"sales\"])),4))\n",
        "print('Root Mean Squared Error:', np.sqrt(np.mean(results_table[\"Residuals_2\"]**2)))\n",
        "print(\"\")\n",
        "\n",
        "print(\"*********Prophet**********\")\n",
        "print('Mean Absolute Percent Error:', round(np.mean(abs(results_table[\"Residuals_3\"]/results_table[\"sales\"])),4))\n",
        "print('Root Mean Squared Error:', np.sqrt(np.mean(results_table[\"Residuals_3\"]**2)))"
      ],
      "execution_count": 54,
      "outputs": [
        {
          "output_type": "stream",
          "name": "stdout",
          "text": [
            "*********SARIMA**********\n",
            "Mean Absolute Percent Error: 0.0137\n",
            "Root Mean Squared Error: 13249.321812832535\n",
            "\n",
            "*********LTSM**********\n",
            "Mean Absolute Percent Error: 0.0307\n",
            "Root Mean Squared Error: 31784.98040217528\n",
            "\n",
            "*********Prophet**********\n",
            "Mean Absolute Percent Error: 0.0566\n",
            "Root Mean Squared Error: 49790.8746090419\n"
          ]
        }
      ]
    },
    {
      "cell_type": "markdown",
      "metadata": {
        "id": "0rHtFaAoYY_m"
      },
      "source": [
        "# In Summary:\n",
        "\n",
        "A simple seasonal ARIMA model (SARIMA) outperformed a RNN (LTSM) and Facebook's Prophet model. Important to consider is the data lacked complexity due to being monthly and had no exongenous variables (i.e. hoildays) or covariates (other lagged time series)\n",
        "\n",
        "Thus, with more naunced data using classical time series models can be  difficult to tune for optimal results and the two other models may be a better option. Just remember, as a Data Scientest it is always best practice to try out various models on a data set for the best results (if time permits). "
      ]
    }
  ]
}